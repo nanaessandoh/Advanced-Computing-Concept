{
 "cells": [
  {
   "cell_type": "code",
   "execution_count": 36,
   "metadata": {},
   "outputs": [],
   "source": [
    "#import the required Dependencies\n",
    "import os\n",
    "import numpy as np\n",
    "import pandas as pd\n",
    "import pickle\n",
    "import quandl\n",
    "quandl.ApiConfig.api_key = \"CwmbSAFxgKmsaVehH99K\" #Insert my API key from Quandl.com\\n\"\n",
    "from datetime import datetime"
   ]
  },
  {
   "cell_type": "code",
   "execution_count": 37,
   "metadata": {},
   "outputs": [
    {
     "data": {
      "text/html": [
       "<script type=\"text/javascript\">window.PlotlyConfig = {MathJaxConfig: 'local'};</script><script type=\"text/javascript\">if (window.MathJax) {MathJax.Hub.Config({SVG: {font: \"STIX-Web\"}});}</script><script>requirejs.config({paths: { 'plotly': ['https://cdn.plot.ly/plotly-latest.min']},});if(!window._Plotly) {require(['plotly'],function(plotly) {window._Plotly=plotly;});}</script>"
      ],
      "text/vnd.plotly.v1+html": [
       "<script type=\"text/javascript\">window.PlotlyConfig = {MathJaxConfig: 'local'};</script><script type=\"text/javascript\">if (window.MathJax) {MathJax.Hub.Config({SVG: {font: \"STIX-Web\"}});}</script><script>requirejs.config({paths: { 'plotly': ['https://cdn.plot.ly/plotly-latest.min']},});if(!window._Plotly) {require(['plotly'],function(plotly) {window._Plotly=plotly;});}</script>"
      ]
     },
     "metadata": {},
     "output_type": "display_data"
    }
   ],
   "source": [
    "import plotly.offline as py\n",
    "import plotly.graph_objs as go\n",
    "import plotly.figure_factory as ff\n",
    "py.init_notebook_mode(connected=True)\n",
    "import plotly.plotly as py\n"
   ]
  },
  {
   "cell_type": "code",
   "execution_count": 38,
   "metadata": {},
   "outputs": [],
   "source": [
    "#To assist with this data retrieval we'll define a function to download and cache datasets from Quandl.\n",
    "def get_quandl_data(quandl_id):\n",
    "    '''Download and cache Quandl dataseries'''\n",
    "    cache_path = '{}.pkl'.format(quandl_id).replace('/','-')\n",
    "    try:\n",
    "        f = open(cache_path, 'rb')\n",
    "        df = pickle.load(f)   \n",
    "        print('Loaded {} from cache'.format(quandl_id))\n",
    "    except (OSError, IOError) as e:\n",
    "        print('Downloading {} from Quandl'.format(quandl_id))\n",
    "        df = quandl.get(quandl_id, returns=\"pandas\")\n",
    "        df.to_pickle(cache_path)\n",
    "        print('Cached {} at {}'.format(quandl_id, cache_path))\n",
    "    return df"
   ]
  },
  {
   "cell_type": "code",
   "execution_count": 39,
   "metadata": {},
   "outputs": [
    {
     "name": "stdout",
     "output_type": "stream",
     "text": [
      "Loaded BCHARTS/KRAKENUSD from cache\n"
     ]
    }
   ],
   "source": [
    "# Pull Kraken BTC price exchange data\n",
    "btc_usd_price_kraken = get_quandl_data('BCHARTS/KRAKENUSD')"
   ]
  },
  {
   "cell_type": "code",
   "execution_count": 40,
   "metadata": {},
   "outputs": [
    {
     "data": {
      "text/html": [
       "<div>\n",
       "<style scoped>\n",
       "    .dataframe tbody tr th:only-of-type {\n",
       "        vertical-align: middle;\n",
       "    }\n",
       "\n",
       "    .dataframe tbody tr th {\n",
       "        vertical-align: top;\n",
       "    }\n",
       "\n",
       "    .dataframe thead th {\n",
       "        text-align: right;\n",
       "    }\n",
       "</style>\n",
       "<table border=\"1\" class=\"dataframe\">\n",
       "  <thead>\n",
       "    <tr style=\"text-align: right;\">\n",
       "      <th></th>\n",
       "      <th>Open</th>\n",
       "      <th>High</th>\n",
       "      <th>Low</th>\n",
       "      <th>Close</th>\n",
       "      <th>Volume (BTC)</th>\n",
       "      <th>Volume (Currency)</th>\n",
       "      <th>Weighted Price</th>\n",
       "    </tr>\n",
       "    <tr>\n",
       "      <th>Date</th>\n",
       "      <th></th>\n",
       "      <th></th>\n",
       "      <th></th>\n",
       "      <th></th>\n",
       "      <th></th>\n",
       "      <th></th>\n",
       "      <th></th>\n",
       "    </tr>\n",
       "  </thead>\n",
       "  <tbody>\n",
       "    <tr>\n",
       "      <th>2019-02-27</th>\n",
       "      <td>3795.0</td>\n",
       "      <td>3827.9</td>\n",
       "      <td>3652.6</td>\n",
       "      <td>3799.1</td>\n",
       "      <td>6161.730826</td>\n",
       "      <td>2.322616e+07</td>\n",
       "      <td>3769.421906</td>\n",
       "    </tr>\n",
       "    <tr>\n",
       "      <th>2019-02-28</th>\n",
       "      <td>3797.8</td>\n",
       "      <td>3885.0</td>\n",
       "      <td>3756.4</td>\n",
       "      <td>3793.7</td>\n",
       "      <td>5628.741814</td>\n",
       "      <td>2.147717e+07</td>\n",
       "      <td>3815.625042</td>\n",
       "    </tr>\n",
       "    <tr>\n",
       "      <th>2019-03-01</th>\n",
       "      <td>3793.6</td>\n",
       "      <td>3843.0</td>\n",
       "      <td>3785.8</td>\n",
       "      <td>3804.7</td>\n",
       "      <td>2670.270560</td>\n",
       "      <td>1.017905e+07</td>\n",
       "      <td>3811.993063</td>\n",
       "    </tr>\n",
       "    <tr>\n",
       "      <th>2019-03-02</th>\n",
       "      <td>3804.6</td>\n",
       "      <td>3818.5</td>\n",
       "      <td>3754.3</td>\n",
       "      <td>3809.9</td>\n",
       "      <td>1766.652670</td>\n",
       "      <td>6.714834e+06</td>\n",
       "      <td>3800.879323</td>\n",
       "    </tr>\n",
       "    <tr>\n",
       "      <th>2019-03-03</th>\n",
       "      <td>3810.3</td>\n",
       "      <td>3822.4</td>\n",
       "      <td>3755.4</td>\n",
       "      <td>3785.7</td>\n",
       "      <td>2204.155819</td>\n",
       "      <td>8.362644e+06</td>\n",
       "      <td>3794.034743</td>\n",
       "    </tr>\n",
       "  </tbody>\n",
       "</table>\n",
       "</div>"
      ],
      "text/plain": [
       "              Open    High     Low   Close  Volume (BTC)  Volume (Currency)  \\\n",
       "Date                                                                          \n",
       "2019-02-27  3795.0  3827.9  3652.6  3799.1   6161.730826       2.322616e+07   \n",
       "2019-02-28  3797.8  3885.0  3756.4  3793.7   5628.741814       2.147717e+07   \n",
       "2019-03-01  3793.6  3843.0  3785.8  3804.7   2670.270560       1.017905e+07   \n",
       "2019-03-02  3804.6  3818.5  3754.3  3809.9   1766.652670       6.714834e+06   \n",
       "2019-03-03  3810.3  3822.4  3755.4  3785.7   2204.155819       8.362644e+06   \n",
       "\n",
       "            Weighted Price  \n",
       "Date                        \n",
       "2019-02-27     3769.421906  \n",
       "2019-02-28     3815.625042  \n",
       "2019-03-01     3811.993063  \n",
       "2019-03-02     3800.879323  \n",
       "2019-03-03     3794.034743  "
      ]
     },
     "execution_count": 40,
     "metadata": {},
     "output_type": "execute_result"
    }
   ],
   "source": [
    "# Inspect the first Five Rows of the data\n",
    "btc_usd_price_kraken.tail()"
   ]
  },
  {
   "cell_type": "code",
   "execution_count": 7,
   "metadata": {},
   "outputs": [
    {
     "name": "stderr",
     "output_type": "stream",
     "text": [
      "/Users/nanaessandoh/anaconda3/lib/python3.7/site-packages/IPython/core/display.py:689: UserWarning:\n",
      "\n",
      "Consider using IPython.display.IFrame instead\n",
      "\n"
     ]
    },
    {
     "data": {
      "text/html": [
       "<iframe id=\"igraph\" scrolling=\"no\" style=\"border:none;\" seamless=\"seamless\" src=\"https://plot.ly/~nanaessandoh/132.embed\" height=\"525px\" width=\"100%\"></iframe>"
      ],
      "text/plain": [
       "<plotly.tools.PlotlyDisplay object>"
      ]
     },
     "execution_count": 7,
     "metadata": {},
     "output_type": "execute_result"
    }
   ],
   "source": [
    "# Chart the BTC pricing data\n",
    "btc_trace = go.Scatter(x=btc_usd_price_kraken.index, y=btc_usd_price_kraken['Weighted Price'])\n",
    "py.iplot([btc_trace])"
   ]
  },
  {
   "cell_type": "code",
   "execution_count": 41,
   "metadata": {},
   "outputs": [
    {
     "name": "stdout",
     "output_type": "stream",
     "text": [
      "Loaded BCHARTS/BITSTAMPUSD from cache\n",
      "Loaded BCHARTS/BITFLYERUSD from cache\n",
      "Loaded BCHARTS/OKCOINUSD from cache\n"
     ]
    }
   ],
   "source": [
    "# Pull pricing data for 3 more BTC exchanges\n",
    "exchanges = ['BITSTAMP','BITFLYER','OKCOIN']\n",
    "\n",
    "exchange_data = {}\n",
    "\n",
    "exchange_data['KRAKEN'] = btc_usd_price_kraken\n",
    "\n",
    "for exchange in exchanges:\n",
    "    exchange_code = 'BCHARTS/{}USD'.format(exchange)\n",
    "    btc_exchange_df = get_quandl_data(exchange_code)\n",
    "    exchange_data[exchange] = btc_exchange_df"
   ]
  },
  {
   "cell_type": "code",
   "execution_count": 42,
   "metadata": {},
   "outputs": [],
   "source": [
    "# Merge All Of The Pricing Data Into A Single Dataframe\n",
    "def merge_dfs_on_column(dataframes, labels, col):\n",
    "    '''Merge a single column of each dataframe into a new combined dataframe'''\n",
    "    series_dict = {}\n",
    "    for index in range(len(dataframes)):\n",
    "        series_dict[labels[index]] = dataframes[index][col]\n",
    "        \n",
    "    return pd.DataFrame(series_dict)"
   ]
  },
  {
   "cell_type": "code",
   "execution_count": 43,
   "metadata": {},
   "outputs": [],
   "source": [
    "# Merge the BTC price dataseries' into a single dataframe\n",
    "btc_usd_datasets = merge_dfs_on_column(list(exchange_data.values()), list(exchange_data.keys()), 'Weighted Price')"
   ]
  },
  {
   "cell_type": "code",
   "execution_count": 44,
   "metadata": {},
   "outputs": [
    {
     "data": {
      "text/html": [
       "<div>\n",
       "<style scoped>\n",
       "    .dataframe tbody tr th:only-of-type {\n",
       "        vertical-align: middle;\n",
       "    }\n",
       "\n",
       "    .dataframe tbody tr th {\n",
       "        vertical-align: top;\n",
       "    }\n",
       "\n",
       "    .dataframe thead th {\n",
       "        text-align: right;\n",
       "    }\n",
       "</style>\n",
       "<table border=\"1\" class=\"dataframe\">\n",
       "  <thead>\n",
       "    <tr style=\"text-align: right;\">\n",
       "      <th></th>\n",
       "      <th>KRAKEN</th>\n",
       "      <th>BITSTAMP</th>\n",
       "      <th>BITFLYER</th>\n",
       "      <th>OKCOIN</th>\n",
       "    </tr>\n",
       "    <tr>\n",
       "      <th>Date</th>\n",
       "      <th></th>\n",
       "      <th></th>\n",
       "      <th></th>\n",
       "      <th></th>\n",
       "    </tr>\n",
       "  </thead>\n",
       "  <tbody>\n",
       "    <tr>\n",
       "      <th>2019-02-28</th>\n",
       "      <td>3815.625042</td>\n",
       "      <td>3815.527051</td>\n",
       "      <td>3821.843137</td>\n",
       "      <td>3802.298307</td>\n",
       "    </tr>\n",
       "    <tr>\n",
       "      <th>2019-03-01</th>\n",
       "      <td>3811.993063</td>\n",
       "      <td>3816.277494</td>\n",
       "      <td>3793.724961</td>\n",
       "      <td>3813.955883</td>\n",
       "    </tr>\n",
       "    <tr>\n",
       "      <th>2019-03-02</th>\n",
       "      <td>3800.879323</td>\n",
       "      <td>3802.063926</td>\n",
       "      <td>3813.055542</td>\n",
       "      <td>3795.331813</td>\n",
       "    </tr>\n",
       "    <tr>\n",
       "      <th>2019-03-03</th>\n",
       "      <td>3794.034743</td>\n",
       "      <td>3797.084534</td>\n",
       "      <td>3800.659165</td>\n",
       "      <td>3795.386001</td>\n",
       "    </tr>\n",
       "    <tr>\n",
       "      <th>2019-03-04</th>\n",
       "      <td>NaN</td>\n",
       "      <td>3787.625497</td>\n",
       "      <td>3784.505000</td>\n",
       "      <td>3783.135526</td>\n",
       "    </tr>\n",
       "  </tbody>\n",
       "</table>\n",
       "</div>"
      ],
      "text/plain": [
       "                 KRAKEN     BITSTAMP     BITFLYER       OKCOIN\n",
       "Date                                                          \n",
       "2019-02-28  3815.625042  3815.527051  3821.843137  3802.298307\n",
       "2019-03-01  3811.993063  3816.277494  3793.724961  3813.955883\n",
       "2019-03-02  3800.879323  3802.063926  3813.055542  3795.331813\n",
       "2019-03-03  3794.034743  3797.084534  3800.659165  3795.386001\n",
       "2019-03-04          NaN  3787.625497  3784.505000  3783.135526"
      ]
     },
     "execution_count": 44,
     "metadata": {},
     "output_type": "execute_result"
    }
   ],
   "source": [
    "btc_usd_datasets.tail()"
   ]
  },
  {
   "cell_type": "code",
   "execution_count": 45,
   "metadata": {},
   "outputs": [],
   "source": [
    "#Visualize the pricing\n",
    "\n",
    "Trace1 = go.Scatter(\n",
    "            x = btc_usd_datasets.index,\n",
    "            y = btc_usd_datasets.KRAKEN,\n",
    "            mode = 'lines',\n",
    "            name =  'Kraken.com'\n",
    "    )\n",
    "\n",
    "Trace2 = go.Scatter(\n",
    "            x = btc_usd_datasets.index,\n",
    "            y = btc_usd_datasets.BITSTAMP,\n",
    "            mode = 'lines',\n",
    "            name =  'Bitstamp.com'\n",
    "    )\n",
    "\n",
    "Trace3 = go.Scatter(\n",
    "            x = btc_usd_datasets.index,\n",
    "            y = btc_usd_datasets.BITFLYER,\n",
    "            mode = 'lines',\n",
    "            name =  'Bitflyer.com'\n",
    "    )\n",
    "\n",
    "Trace4 = go.Scatter(\n",
    "            x = btc_usd_datasets.index,\n",
    "            y = btc_usd_datasets.OKCOIN,\n",
    "            mode = 'lines',\n",
    "            name =  'Okcoin.com'\n",
    "    )"
   ]
  },
  {
   "cell_type": "code",
   "execution_count": 46,
   "metadata": {},
   "outputs": [],
   "source": [
    "data = [Trace1,Trace2,Trace3,Trace4]\n",
    "layout = go.Layout(title = 'Bitcoin Price (USD) By Exchange')\n",
    "figure = go.Figure(data = data, layout = layout)"
   ]
  },
  {
   "cell_type": "code",
   "execution_count": 14,
   "metadata": {},
   "outputs": [
    {
     "data": {
      "text/html": [
       "<iframe id=\"igraph\" scrolling=\"no\" style=\"border:none;\" seamless=\"seamless\" src=\"https://plot.ly/~nanaessandoh/134.embed\" height=\"525px\" width=\"100%\"></iframe>"
      ],
      "text/plain": [
       "<plotly.tools.PlotlyDisplay object>"
      ]
     },
     "execution_count": 14,
     "metadata": {},
     "output_type": "execute_result"
    }
   ],
   "source": [
    "py.iplot(figure)"
   ]
  },
  {
   "cell_type": "code",
   "execution_count": 49,
   "metadata": {},
   "outputs": [],
   "source": [
    "# Remove \"0\" values\n",
    "btc_usd_datasets.replace(0, np.nan, inplace=True)"
   ]
  },
  {
   "cell_type": "code",
   "execution_count": 50,
   "metadata": {},
   "outputs": [],
   "source": [
    "# Calculate the average BTC price as a new column\n",
    "btc_usd_datasets['avg_btc_price_usd'] = btc_usd_datasets.mean(axis=1)"
   ]
  },
  {
   "cell_type": "code",
   "execution_count": 17,
   "metadata": {},
   "outputs": [
    {
     "data": {
      "text/html": [
       "<iframe id=\"igraph\" scrolling=\"no\" style=\"border:none;\" seamless=\"seamless\" src=\"https://plot.ly/~nanaessandoh/136.embed\" height=\"525px\" width=\"100%\"></iframe>"
      ],
      "text/plain": [
       "<plotly.tools.PlotlyDisplay object>"
      ]
     },
     "execution_count": 17,
     "metadata": {},
     "output_type": "execute_result"
    }
   ],
   "source": [
    "# Plot the average BTC price\n",
    "btc_trace = go.Scatter(x=btc_usd_datasets.index, y=btc_usd_datasets['avg_btc_price_usd'])\n",
    "py.iplot([btc_trace])"
   ]
  },
  {
   "cell_type": "code",
   "execution_count": 6,
   "metadata": {},
   "outputs": [
    {
     "data": {
      "text/html": [
       "<div>\n",
       "<style scoped>\n",
       "    .dataframe tbody tr th:only-of-type {\n",
       "        vertical-align: middle;\n",
       "    }\n",
       "\n",
       "    .dataframe tbody tr th {\n",
       "        vertical-align: top;\n",
       "    }\n",
       "\n",
       "    .dataframe thead th {\n",
       "        text-align: right;\n",
       "    }\n",
       "</style>\n",
       "<table border=\"1\" class=\"dataframe\">\n",
       "  <thead>\n",
       "    <tr style=\"text-align: right;\">\n",
       "      <th></th>\n",
       "      <th>Open</th>\n",
       "      <th>High</th>\n",
       "      <th>Low</th>\n",
       "      <th>Close</th>\n",
       "      <th>Adj Close</th>\n",
       "      <th>Volume</th>\n",
       "      <th>DailyChange</th>\n",
       "      <th>DailyMargin</th>\n",
       "    </tr>\n",
       "    <tr>\n",
       "      <th>Date</th>\n",
       "      <th></th>\n",
       "      <th></th>\n",
       "      <th></th>\n",
       "      <th></th>\n",
       "      <th></th>\n",
       "      <th></th>\n",
       "      <th></th>\n",
       "      <th></th>\n",
       "    </tr>\n",
       "  </thead>\n",
       "  <tbody>\n",
       "    <tr>\n",
       "      <th>2019-03-02</th>\n",
       "      <td>3831.479980</td>\n",
       "      <td>3846.379883</td>\n",
       "      <td>3790.739990</td>\n",
       "      <td>3843.449951</td>\n",
       "      <td>3843.449951</td>\n",
       "      <td>73609812</td>\n",
       "      <td>11.969971</td>\n",
       "      <td>55.639893</td>\n",
       "    </tr>\n",
       "    <tr>\n",
       "      <th>2019-03-01</th>\n",
       "      <td>3823.370117</td>\n",
       "      <td>3866.120117</td>\n",
       "      <td>3822.669922</td>\n",
       "      <td>3831.479980</td>\n",
       "      <td>3831.479980</td>\n",
       "      <td>101774924</td>\n",
       "      <td>8.109863</td>\n",
       "      <td>43.450195</td>\n",
       "    </tr>\n",
       "    <tr>\n",
       "      <th>2019-02-28</th>\n",
       "      <td>3830.719971</td>\n",
       "      <td>3909.860107</td>\n",
       "      <td>3798.000000</td>\n",
       "      <td>3823.370117</td>\n",
       "      <td>3823.370117</td>\n",
       "      <td>170646670</td>\n",
       "      <td>-7.349854</td>\n",
       "      <td>111.860107</td>\n",
       "    </tr>\n",
       "    <tr>\n",
       "      <th>2019-02-27</th>\n",
       "      <td>3817.879883</td>\n",
       "      <td>3851.840088</td>\n",
       "      <td>3699.530029</td>\n",
       "      <td>3830.719971</td>\n",
       "      <td>3830.719971</td>\n",
       "      <td>175069054</td>\n",
       "      <td>12.840088</td>\n",
       "      <td>152.310059</td>\n",
       "    </tr>\n",
       "    <tr>\n",
       "      <th>2019-02-26</th>\n",
       "      <td>3845.510010</td>\n",
       "      <td>3852.659912</td>\n",
       "      <td>3791.899902</td>\n",
       "      <td>3817.879883</td>\n",
       "      <td>3817.879883</td>\n",
       "      <td>126868886</td>\n",
       "      <td>-27.630127</td>\n",
       "      <td>60.760010</td>\n",
       "    </tr>\n",
       "  </tbody>\n",
       "</table>\n",
       "</div>"
      ],
      "text/plain": [
       "                   Open         High          Low        Close    Adj Close  \\\n",
       "Date                                                                          \n",
       "2019-03-02  3831.479980  3846.379883  3790.739990  3843.449951  3843.449951   \n",
       "2019-03-01  3823.370117  3866.120117  3822.669922  3831.479980  3831.479980   \n",
       "2019-02-28  3830.719971  3909.860107  3798.000000  3823.370117  3823.370117   \n",
       "2019-02-27  3817.879883  3851.840088  3699.530029  3830.719971  3830.719971   \n",
       "2019-02-26  3845.510010  3852.659912  3791.899902  3817.879883  3817.879883   \n",
       "\n",
       "               Volume  DailyChange  DailyMargin  \n",
       "Date                                             \n",
       "2019-03-02   73609812    11.969971    55.639893  \n",
       "2019-03-01  101774924     8.109863    43.450195  \n",
       "2019-02-28  170646670    -7.349854   111.860107  \n",
       "2019-02-27  175069054    12.840088   152.310059  \n",
       "2019-02-26  126868886   -27.630127    60.760010  "
      ]
     },
     "execution_count": 6,
     "metadata": {},
     "output_type": "execute_result"
    }
   ],
   "source": [
    "import pandas as pd\n",
    "data1 = pd.read_csv(\"BTC.csv\",parse_dates=[\"Date\"], index_col=\"Date\")\n",
    "data1.head()"
   ]
  },
  {
   "cell_type": "code",
   "execution_count": 19,
   "metadata": {},
   "outputs": [
    {
     "data": {
      "text/html": [
       "<iframe id=\"igraph\" scrolling=\"no\" style=\"border:none;\" seamless=\"seamless\" src=\"https://plot.ly/~nanaessandoh/138.embed\" height=\"525px\" width=\"100%\"></iframe>"
      ],
      "text/plain": [
       "<plotly.tools.PlotlyDisplay object>"
      ]
     },
     "execution_count": 19,
     "metadata": {},
     "output_type": "execute_result"
    }
   ],
   "source": [
    "# Plot the average BTC price\n",
    "btc = go.Scatter(x=data1.index, y=data1['DailyChange'])\n",
    "py.iplot([btc])"
   ]
  },
  {
   "cell_type": "code",
   "execution_count": 20,
   "metadata": {},
   "outputs": [
    {
     "data": {
      "text/html": [
       "<iframe id=\"igraph\" scrolling=\"no\" style=\"border:none;\" seamless=\"seamless\" src=\"https://plot.ly/~nanaessandoh/140.embed\" height=\"525px\" width=\"100%\"></iframe>"
      ],
      "text/plain": [
       "<plotly.tools.PlotlyDisplay object>"
      ]
     },
     "execution_count": 20,
     "metadata": {},
     "output_type": "execute_result"
    }
   ],
   "source": [
    "# Plot the Daily Marginal Change of the BTC\n",
    "btc = go.Scatter(x=data1.index, y=data1['DailyMargin'])\n",
    "py.iplot([btc])"
   ]
  },
  {
   "cell_type": "code",
   "execution_count": 5,
   "metadata": {},
   "outputs": [
    {
     "data": {
      "text/html": [
       "<div>\n",
       "<style scoped>\n",
       "    .dataframe tbody tr th:only-of-type {\n",
       "        vertical-align: middle;\n",
       "    }\n",
       "\n",
       "    .dataframe tbody tr th {\n",
       "        vertical-align: top;\n",
       "    }\n",
       "\n",
       "    .dataframe thead th {\n",
       "        text-align: right;\n",
       "    }\n",
       "</style>\n",
       "<table border=\"1\" class=\"dataframe\">\n",
       "  <thead>\n",
       "    <tr style=\"text-align: right;\">\n",
       "      <th></th>\n",
       "      <th>Open</th>\n",
       "      <th>High</th>\n",
       "      <th>Low</th>\n",
       "      <th>Close</th>\n",
       "      <th>Adj Close</th>\n",
       "      <th>Volume</th>\n",
       "      <th>DailyChange</th>\n",
       "      <th>DailyMargin</th>\n",
       "    </tr>\n",
       "    <tr>\n",
       "      <th>Date</th>\n",
       "      <th></th>\n",
       "      <th></th>\n",
       "      <th></th>\n",
       "      <th></th>\n",
       "      <th></th>\n",
       "      <th></th>\n",
       "      <th></th>\n",
       "      <th></th>\n",
       "    </tr>\n",
       "  </thead>\n",
       "  <tbody>\n",
       "    <tr>\n",
       "      <th>2017-01-05</th>\n",
       "      <td>1135.410034</td>\n",
       "      <td>1150.630005</td>\n",
       "      <td>874.530029</td>\n",
       "      <td>989.349976</td>\n",
       "      <td>989.349976</td>\n",
       "      <td>244839289.0</td>\n",
       "      <td>-146.060058</td>\n",
       "      <td>276.099976</td>\n",
       "    </tr>\n",
       "    <tr>\n",
       "      <th>2017-01-04</th>\n",
       "      <td>1033.300049</td>\n",
       "      <td>1148.540039</td>\n",
       "      <td>1022.320007</td>\n",
       "      <td>1135.410034</td>\n",
       "      <td>1135.410034</td>\n",
       "      <td>170584623.0</td>\n",
       "      <td>102.109985</td>\n",
       "      <td>126.220032</td>\n",
       "    </tr>\n",
       "    <tr>\n",
       "      <th>2017-01-03</th>\n",
       "      <td>1017.049988</td>\n",
       "      <td>1035.469971</td>\n",
       "      <td>1006.530029</td>\n",
       "      <td>1033.300049</td>\n",
       "      <td>1033.300049</td>\n",
       "      <td>56085870.0</td>\n",
       "      <td>16.250061</td>\n",
       "      <td>28.939942</td>\n",
       "    </tr>\n",
       "    <tr>\n",
       "      <th>2017-01-02</th>\n",
       "      <td>995.440002</td>\n",
       "      <td>1031.680054</td>\n",
       "      <td>990.200012</td>\n",
       "      <td>1017.049988</td>\n",
       "      <td>1017.049988</td>\n",
       "      <td>66038073.0</td>\n",
       "      <td>21.609986</td>\n",
       "      <td>41.480042</td>\n",
       "    </tr>\n",
       "    <tr>\n",
       "      <th>2017-01-01</th>\n",
       "      <td>963.380005</td>\n",
       "      <td>1001.609985</td>\n",
       "      <td>956.099976</td>\n",
       "      <td>995.440002</td>\n",
       "      <td>995.440002</td>\n",
       "      <td>40570922.0</td>\n",
       "      <td>32.059997</td>\n",
       "      <td>45.510009</td>\n",
       "    </tr>\n",
       "  </tbody>\n",
       "</table>\n",
       "</div>"
      ],
      "text/plain": [
       "                   Open         High          Low        Close    Adj Close  \\\n",
       "Date                                                                          \n",
       "2017-01-05  1135.410034  1150.630005   874.530029   989.349976   989.349976   \n",
       "2017-01-04  1033.300049  1148.540039  1022.320007  1135.410034  1135.410034   \n",
       "2017-01-03  1017.049988  1035.469971  1006.530029  1033.300049  1033.300049   \n",
       "2017-01-02   995.440002  1031.680054   990.200012  1017.049988  1017.049988   \n",
       "2017-01-01   963.380005  1001.609985   956.099976   995.440002   995.440002   \n",
       "\n",
       "                 Volume  DailyChange  DailyMargin  \n",
       "Date                                               \n",
       "2017-01-05  244839289.0  -146.060058   276.099976  \n",
       "2017-01-04  170584623.0   102.109985   126.220032  \n",
       "2017-01-03   56085870.0    16.250061    28.939942  \n",
       "2017-01-02   66038073.0    21.609986    41.480042  \n",
       "2017-01-01   40570922.0    32.059997    45.510009  "
      ]
     },
     "execution_count": 5,
     "metadata": {},
     "output_type": "execute_result"
    }
   ],
   "source": [
    "import pandas as pd\n",
    "data2 = pd.read_csv(\"ABCD.csv\",parse_dates=[\"Date\"], index_col=\"Date\")\n",
    "data2.tail()"
   ]
  },
  {
   "cell_type": "code",
   "execution_count": 22,
   "metadata": {},
   "outputs": [
    {
     "name": "stderr",
     "output_type": "stream",
     "text": [
      "/Users/nanaessandoh/anaconda3/lib/python3.7/site-packages/plotly/tools.py:1545: UserWarning:\n",
      "\n",
      "plotly.tools.FigureFactory.create_candlestick is deprecated. Use plotly.figure_factory.create_candlestick\n",
      "\n"
     ]
    },
    {
     "data": {
      "text/html": [
       "<iframe id=\"igraph\" scrolling=\"no\" style=\"border:none;\" seamless=\"seamless\" src=\"https://plot.ly/~nanaessandoh/142.embed\" height=\"525px\" width=\"100%\"></iframe>"
      ],
      "text/plain": [
       "<plotly.tools.PlotlyDisplay object>"
      ]
     },
     "execution_count": 22,
     "metadata": {},
     "output_type": "execute_result"
    }
   ],
   "source": [
    "# Plot Candle Stick Plot of BTC to deptermine when its viable to trade or drop position\n",
    "from plotly.tools import FigureFactory as FF\n",
    "fig = FF.create_candlestick(data2.Open, data2.High, data2.Low, data2.Close, dates=data2.index)\n",
    "py.iplot(fig, filename='Simple_Candlestick', validate=False)"
   ]
  },
  {
   "cell_type": "code",
   "execution_count": 23,
   "metadata": {},
   "outputs": [],
   "source": [
    "# Retrieve Altcoin Data from Poloniex.com\n",
    "def get_json_data(json_url, cache_path):\n",
    "    '''Download and cache JSON data, return as a dataframe.'''\n",
    "    try:        \n",
    "        f = open(cache_path, 'rb')\n",
    "        df = pickle.load(f)   \n",
    "        print('Loaded {} from cache'.format(json_url))\n",
    "    except (OSError, IOError) as e:\n",
    "        print('Downloading {}'.format(json_url))\n",
    "        df = pd.read_json(json_url)\n",
    "        df.to_pickle(cache_path)\n",
    "        print('Cached {} at {}'.format(json_url, cache_path))\n",
    "    return df"
   ]
  },
  {
   "cell_type": "code",
   "execution_count": 24,
   "metadata": {},
   "outputs": [],
   "source": [
    "base_polo_url = 'https://poloniex.com/public?command=returnChartData&currencyPair={}&start={}&end={}&period={}'\n",
    "start_date = datetime.strptime('2012-01-01', '%Y-%m-%d') # get data from the start of 2015\n",
    "end_date = datetime.now() # up until today\n",
    "pediod = 86400 # pull daily data (86,400 seconds per day)\n",
    "\n",
    "def get_crypto_data(poloniex_pair):\n",
    "    '''Retrieve cryptocurrency data from poloniex'''\n",
    "    json_url = base_polo_url.format(poloniex_pair, start_date.timestamp(), end_date.timestamp(), pediod)\n",
    "    data_df = get_json_data(json_url, poloniex_pair)\n",
    "    data_df = data_df.set_index('date')\n",
    "    return data_df"
   ]
  },
  {
   "cell_type": "code",
   "execution_count": 25,
   "metadata": {},
   "outputs": [
    {
     "name": "stdout",
     "output_type": "stream",
     "text": [
      "Loaded https://poloniex.com/public?command=returnChartData&currencyPair=BTC_ETH&start=1325388600.0&end=1553207241.118354&period=86400 from cache\n",
      "Loaded https://poloniex.com/public?command=returnChartData&currencyPair=BTC_LTC&start=1325388600.0&end=1553207241.118354&period=86400 from cache\n",
      "Loaded https://poloniex.com/public?command=returnChartData&currencyPair=BTC_XRP&start=1325388600.0&end=1553207241.118354&period=86400 from cache\n",
      "Loaded https://poloniex.com/public?command=returnChartData&currencyPair=BTC_ETC&start=1325388600.0&end=1553207241.118354&period=86400 from cache\n",
      "Loaded https://poloniex.com/public?command=returnChartData&currencyPair=BTC_STR&start=1325388600.0&end=1553207241.118354&period=86400 from cache\n",
      "Loaded https://poloniex.com/public?command=returnChartData&currencyPair=BTC_DASH&start=1325388600.0&end=1553207241.118354&period=86400 from cache\n",
      "Loaded https://poloniex.com/public?command=returnChartData&currencyPair=BTC_SC&start=1325388600.0&end=1553207241.118354&period=86400 from cache\n",
      "Loaded https://poloniex.com/public?command=returnChartData&currencyPair=BTC_XMR&start=1325388600.0&end=1553207241.118354&period=86400 from cache\n",
      "Loaded https://poloniex.com/public?command=returnChartData&currencyPair=BTC_XEM&start=1325388600.0&end=1553207241.118354&period=86400 from cache\n"
     ]
    }
   ],
   "source": [
    "# Download Trading Data from Poloniex\n",
    "altcoins = ['ETH','LTC','XRP','ETC','STR','DASH','SC','XMR','XEM']\n",
    "\n",
    "altcoin_data = {}\n",
    "for altcoin in altcoins:\n",
    "    coinpair = 'BTC_{}'.format(altcoin)\n",
    "    crypto_price_df = get_crypto_data(coinpair)\n",
    "    altcoin_data[altcoin] = crypto_price_df"
   ]
  },
  {
   "cell_type": "code",
   "execution_count": 26,
   "metadata": {},
   "outputs": [
    {
     "data": {
      "text/html": [
       "<div>\n",
       "<style scoped>\n",
       "    .dataframe tbody tr th:only-of-type {\n",
       "        vertical-align: middle;\n",
       "    }\n",
       "\n",
       "    .dataframe tbody tr th {\n",
       "        vertical-align: top;\n",
       "    }\n",
       "\n",
       "    .dataframe thead th {\n",
       "        text-align: right;\n",
       "    }\n",
       "</style>\n",
       "<table border=\"1\" class=\"dataframe\">\n",
       "  <thead>\n",
       "    <tr style=\"text-align: right;\">\n",
       "      <th></th>\n",
       "      <th>close</th>\n",
       "      <th>high</th>\n",
       "      <th>low</th>\n",
       "      <th>open</th>\n",
       "      <th>quoteVolume</th>\n",
       "      <th>volume</th>\n",
       "      <th>weightedAverage</th>\n",
       "    </tr>\n",
       "    <tr>\n",
       "      <th>date</th>\n",
       "      <th></th>\n",
       "      <th></th>\n",
       "      <th></th>\n",
       "      <th></th>\n",
       "      <th></th>\n",
       "      <th></th>\n",
       "      <th></th>\n",
       "    </tr>\n",
       "  </thead>\n",
       "  <tbody>\n",
       "    <tr>\n",
       "      <th>2019-02-28</th>\n",
       "      <td>0.035465</td>\n",
       "      <td>0.035990</td>\n",
       "      <td>0.034940</td>\n",
       "      <td>0.035337</td>\n",
       "      <td>11088.199678</td>\n",
       "      <td>394.855178</td>\n",
       "      <td>0.035610</td>\n",
       "    </tr>\n",
       "    <tr>\n",
       "      <th>2019-03-01</th>\n",
       "      <td>0.035335</td>\n",
       "      <td>0.035791</td>\n",
       "      <td>0.035283</td>\n",
       "      <td>0.035491</td>\n",
       "      <td>6146.563879</td>\n",
       "      <td>218.159505</td>\n",
       "      <td>0.035493</td>\n",
       "    </tr>\n",
       "    <tr>\n",
       "      <th>2019-03-02</th>\n",
       "      <td>0.034665</td>\n",
       "      <td>0.035503</td>\n",
       "      <td>0.034354</td>\n",
       "      <td>0.035375</td>\n",
       "      <td>6077.638925</td>\n",
       "      <td>211.917755</td>\n",
       "      <td>0.034868</td>\n",
       "    </tr>\n",
       "    <tr>\n",
       "      <th>2019-03-03</th>\n",
       "      <td>0.034303</td>\n",
       "      <td>0.035148</td>\n",
       "      <td>0.033867</td>\n",
       "      <td>0.034670</td>\n",
       "      <td>5066.752151</td>\n",
       "      <td>175.420158</td>\n",
       "      <td>0.034622</td>\n",
       "    </tr>\n",
       "    <tr>\n",
       "      <th>2019-03-04</th>\n",
       "      <td>0.033839</td>\n",
       "      <td>0.034299</td>\n",
       "      <td>0.033397</td>\n",
       "      <td>0.034281</td>\n",
       "      <td>6506.653137</td>\n",
       "      <td>219.987417</td>\n",
       "      <td>0.033810</td>\n",
       "    </tr>\n",
       "  </tbody>\n",
       "</table>\n",
       "</div>"
      ],
      "text/plain": [
       "               close      high       low      open   quoteVolume      volume  \\\n",
       "date                                                                           \n",
       "2019-02-28  0.035465  0.035990  0.034940  0.035337  11088.199678  394.855178   \n",
       "2019-03-01  0.035335  0.035791  0.035283  0.035491   6146.563879  218.159505   \n",
       "2019-03-02  0.034665  0.035503  0.034354  0.035375   6077.638925  211.917755   \n",
       "2019-03-03  0.034303  0.035148  0.033867  0.034670   5066.752151  175.420158   \n",
       "2019-03-04  0.033839  0.034299  0.033397  0.034281   6506.653137  219.987417   \n",
       "\n",
       "            weightedAverage  \n",
       "date                         \n",
       "2019-02-28         0.035610  \n",
       "2019-03-01         0.035493  \n",
       "2019-03-02         0.034868  \n",
       "2019-03-03         0.034622  \n",
       "2019-03-04         0.033810  "
      ]
     },
     "execution_count": 26,
     "metadata": {},
     "output_type": "execute_result"
    }
   ],
   "source": [
    "# Show the tail of the Altcoin Data (Etherium)\n",
    "altcoin_data['ETH'].tail()"
   ]
  },
  {
   "cell_type": "code",
   "execution_count": 27,
   "metadata": {},
   "outputs": [],
   "source": [
    "# Calculate USD Price as a new column in each altcoin dataframe\n",
    "for altcoin in altcoin_data.keys():\n",
    "    altcoin_data[altcoin]['price_usd'] =  altcoin_data[altcoin]['weightedAverage'] * btc_usd_datasets['avg_btc_price_usd']"
   ]
  },
  {
   "cell_type": "code",
   "execution_count": 28,
   "metadata": {},
   "outputs": [],
   "source": [
    "# Merge USD price of each altcoin into single dataframe \n",
    "combined_df = merge_dfs_on_column(list(altcoin_data.values()), list(altcoin_data.keys()), 'price_usd')"
   ]
  },
  {
   "cell_type": "code",
   "execution_count": 29,
   "metadata": {},
   "outputs": [],
   "source": [
    "# Add BTC price to the dataframe\n",
    "combined_df['BTC'] = btc_usd_datasets['avg_btc_price_usd']"
   ]
  },
  {
   "cell_type": "code",
   "execution_count": 30,
   "metadata": {},
   "outputs": [
    {
     "data": {
      "text/html": [
       "<div>\n",
       "<style scoped>\n",
       "    .dataframe tbody tr th:only-of-type {\n",
       "        vertical-align: middle;\n",
       "    }\n",
       "\n",
       "    .dataframe tbody tr th {\n",
       "        vertical-align: top;\n",
       "    }\n",
       "\n",
       "    .dataframe thead th {\n",
       "        text-align: right;\n",
       "    }\n",
       "</style>\n",
       "<table border=\"1\" class=\"dataframe\">\n",
       "  <thead>\n",
       "    <tr style=\"text-align: right;\">\n",
       "      <th></th>\n",
       "      <th>ETH</th>\n",
       "      <th>LTC</th>\n",
       "      <th>XRP</th>\n",
       "      <th>ETC</th>\n",
       "      <th>STR</th>\n",
       "      <th>DASH</th>\n",
       "      <th>SC</th>\n",
       "      <th>XMR</th>\n",
       "      <th>XEM</th>\n",
       "      <th>BTC</th>\n",
       "    </tr>\n",
       "    <tr>\n",
       "      <th>date</th>\n",
       "      <th></th>\n",
       "      <th></th>\n",
       "      <th></th>\n",
       "      <th></th>\n",
       "      <th></th>\n",
       "      <th></th>\n",
       "      <th></th>\n",
       "      <th></th>\n",
       "      <th></th>\n",
       "      <th></th>\n",
       "    </tr>\n",
       "  </thead>\n",
       "  <tbody>\n",
       "    <tr>\n",
       "      <th>2019-02-28</th>\n",
       "      <td>135.811738</td>\n",
       "      <td>45.572634</td>\n",
       "      <td>0.311361</td>\n",
       "      <td>4.233458</td>\n",
       "      <td>0.083599</td>\n",
       "      <td>81.251295</td>\n",
       "      <td>0.002365</td>\n",
       "      <td>48.045899</td>\n",
       "      <td>0.042257</td>\n",
       "      <td>3813.823384</td>\n",
       "    </tr>\n",
       "    <tr>\n",
       "      <th>2019-03-01</th>\n",
       "      <td>135.192101</td>\n",
       "      <td>47.150623</td>\n",
       "      <td>0.317022</td>\n",
       "      <td>4.214721</td>\n",
       "      <td>0.084141</td>\n",
       "      <td>82.470758</td>\n",
       "      <td>0.002323</td>\n",
       "      <td>47.763413</td>\n",
       "      <td>0.042127</td>\n",
       "      <td>3808.987850</td>\n",
       "    </tr>\n",
       "    <tr>\n",
       "      <th>2019-03-02</th>\n",
       "      <td>132.598804</td>\n",
       "      <td>48.041223</td>\n",
       "      <td>0.312783</td>\n",
       "      <td>4.275525</td>\n",
       "      <td>0.083510</td>\n",
       "      <td>81.779954</td>\n",
       "      <td>0.002358</td>\n",
       "      <td>47.800199</td>\n",
       "      <td>0.042135</td>\n",
       "      <td>3802.832651</td>\n",
       "    </tr>\n",
       "    <tr>\n",
       "      <th>2019-03-03</th>\n",
       "      <td>131.451780</td>\n",
       "      <td>47.825710</td>\n",
       "      <td>0.310350</td>\n",
       "      <td>4.227613</td>\n",
       "      <td>0.086681</td>\n",
       "      <td>80.473633</td>\n",
       "      <td>0.002354</td>\n",
       "      <td>48.365500</td>\n",
       "      <td>0.041955</td>\n",
       "      <td>3796.791111</td>\n",
       "    </tr>\n",
       "    <tr>\n",
       "      <th>2019-03-04</th>\n",
       "      <td>127.972372</td>\n",
       "      <td>46.590619</td>\n",
       "      <td>0.307273</td>\n",
       "      <td>4.141076</td>\n",
       "      <td>0.084105</td>\n",
       "      <td>79.076218</td>\n",
       "      <td>0.002347</td>\n",
       "      <td>47.659111</td>\n",
       "      <td>0.041144</td>\n",
       "      <td>3785.088675</td>\n",
       "    </tr>\n",
       "  </tbody>\n",
       "</table>\n",
       "</div>"
      ],
      "text/plain": [
       "                   ETH        LTC       XRP       ETC       STR       DASH  \\\n",
       "date                                                                         \n",
       "2019-02-28  135.811738  45.572634  0.311361  4.233458  0.083599  81.251295   \n",
       "2019-03-01  135.192101  47.150623  0.317022  4.214721  0.084141  82.470758   \n",
       "2019-03-02  132.598804  48.041223  0.312783  4.275525  0.083510  81.779954   \n",
       "2019-03-03  131.451780  47.825710  0.310350  4.227613  0.086681  80.473633   \n",
       "2019-03-04  127.972372  46.590619  0.307273  4.141076  0.084105  79.076218   \n",
       "\n",
       "                  SC        XMR       XEM          BTC  \n",
       "date                                                    \n",
       "2019-02-28  0.002365  48.045899  0.042257  3813.823384  \n",
       "2019-03-01  0.002323  47.763413  0.042127  3808.987850  \n",
       "2019-03-02  0.002358  47.800199  0.042135  3802.832651  \n",
       "2019-03-03  0.002354  48.365500  0.041955  3796.791111  \n",
       "2019-03-04  0.002347  47.659111  0.041144  3785.088675  "
      ]
     },
     "execution_count": 30,
     "metadata": {},
     "output_type": "execute_result"
    }
   ],
   "source": [
    "# Show the tail of the Altcoin Data\n",
    "combined_df.tail()"
   ]
  },
  {
   "cell_type": "code",
   "execution_count": 31,
   "metadata": {},
   "outputs": [],
   "source": [
    "    Trace1 = go.Scatter(\n",
    "            x = combined_df.index,\n",
    "            y = combined_df.ETH,\n",
    "            mode = 'lines',\n",
    "            name =  'Etherium'\n",
    "    )\n",
    "    \n",
    "    Trace2 = go.Scatter(\n",
    "            x = combined_df.index,\n",
    "            y = combined_df.LTC,\n",
    "            mode = 'lines',\n",
    "            name =  'Litecoin'\n",
    "    )\n",
    "    Trace3 = go.Scatter(\n",
    "            x = combined_df.index,\n",
    "            y = combined_df.XRP,\n",
    "            mode = 'lines',\n",
    "            name =  'Ripple'\n",
    "    )\n",
    "    \n",
    "    Trace4 = go.Scatter(\n",
    "            x = combined_df.index,\n",
    "            y = combined_df.ETC,\n",
    "            mode = 'lines',\n",
    "            name =  'Etherium Classic'\n",
    "    )\n",
    "\n",
    "    Trace5 = go.Scatter(\n",
    "            x = combined_df.index,\n",
    "            y = combined_df.STR,\n",
    "            mode = 'lines',\n",
    "            name =  'Starcoin'\n",
    "    )\n",
    "    \n",
    "    Trace6 = go.Scatter(\n",
    "            x = combined_df.index,\n",
    "            y = combined_df.DASH,\n",
    "            mode = 'lines',\n",
    "            name =  'Dashcoin'\n",
    "    )\n",
    "    \n",
    "    Trace7 = go.Scatter(\n",
    "            x = combined_df.index,\n",
    "            y = combined_df.SC,\n",
    "            mode = 'lines',\n",
    "            name =  'Siacon'\n",
    "    )\n",
    "\n",
    "    Trace8 = go.Scatter(\n",
    "            x = combined_df.index,\n",
    "            y = combined_df.XMR,\n",
    "            mode = 'lines',\n",
    "            name =  'Monero'\n",
    "    )\n",
    "    \n",
    "    Trace9 = go.Scatter(\n",
    "            x = combined_df.index,\n",
    "            y = combined_df.XEM,\n",
    "            mode = 'lines',\n",
    "            name =  'XEM Token'\n",
    "    )\n",
    "    \n",
    "    Trace10 = go.Scatter(\n",
    "            x = combined_df.index,\n",
    "            y = combined_df.BTC,\n",
    "            mode = 'lines',\n",
    "            name =  'Bitcoin'\n",
    "    )"
   ]
  },
  {
   "cell_type": "code",
   "execution_count": 32,
   "metadata": {},
   "outputs": [],
   "source": [
    "data = [Trace1,Trace2,Trace3,Trace4,Trace5,Trace6,Trace7,Trace8,Trace9,Trace10]\n",
    "layout = go.Layout(title = 'Cryptocurrency Prices (USD)')\n",
    "figure = go.Figure(data = data, layout = layout)"
   ]
  },
  {
   "cell_type": "code",
   "execution_count": 33,
   "metadata": {},
   "outputs": [
    {
     "data": {
      "text/html": [
       "<iframe id=\"igraph\" scrolling=\"no\" style=\"border:none;\" seamless=\"seamless\" src=\"https://plot.ly/~nanaessandoh/144.embed\" height=\"525px\" width=\"100%\"></iframe>"
      ],
      "text/plain": [
       "<plotly.tools.PlotlyDisplay object>"
      ]
     },
     "execution_count": 33,
     "metadata": {},
     "output_type": "execute_result"
    }
   ],
   "source": [
    "# Plot Cryptocurrency Prices in USD\n",
    "py.iplot(figure)"
   ]
  },
  {
   "cell_type": "code",
   "execution_count": 34,
   "metadata": {},
   "outputs": [
    {
     "data": {
      "text/html": [
       "<div>\n",
       "<style scoped>\n",
       "    .dataframe tbody tr th:only-of-type {\n",
       "        vertical-align: middle;\n",
       "    }\n",
       "\n",
       "    .dataframe tbody tr th {\n",
       "        vertical-align: top;\n",
       "    }\n",
       "\n",
       "    .dataframe thead th {\n",
       "        text-align: right;\n",
       "    }\n",
       "</style>\n",
       "<table border=\"1\" class=\"dataframe\">\n",
       "  <thead>\n",
       "    <tr style=\"text-align: right;\">\n",
       "      <th></th>\n",
       "      <th>ETH</th>\n",
       "      <th>LTC</th>\n",
       "      <th>XRP</th>\n",
       "      <th>ETC</th>\n",
       "      <th>STR</th>\n",
       "      <th>DASH</th>\n",
       "      <th>SC</th>\n",
       "      <th>XMR</th>\n",
       "      <th>XEM</th>\n",
       "      <th>BTC</th>\n",
       "    </tr>\n",
       "  </thead>\n",
       "  <tbody>\n",
       "    <tr>\n",
       "      <th>ETH</th>\n",
       "      <td>1.000000</td>\n",
       "      <td>0.719607</td>\n",
       "      <td>0.684129</td>\n",
       "      <td>0.786109</td>\n",
       "      <td>0.700429</td>\n",
       "      <td>0.774323</td>\n",
       "      <td>0.705407</td>\n",
       "      <td>0.817768</td>\n",
       "      <td>0.563254</td>\n",
       "      <td>0.879684</td>\n",
       "    </tr>\n",
       "    <tr>\n",
       "      <th>LTC</th>\n",
       "      <td>0.719607</td>\n",
       "      <td>1.000000</td>\n",
       "      <td>0.580395</td>\n",
       "      <td>0.640176</td>\n",
       "      <td>0.642780</td>\n",
       "      <td>0.627805</td>\n",
       "      <td>0.623876</td>\n",
       "      <td>0.731166</td>\n",
       "      <td>0.455902</td>\n",
       "      <td>0.828460</td>\n",
       "    </tr>\n",
       "    <tr>\n",
       "      <th>XRP</th>\n",
       "      <td>0.684129</td>\n",
       "      <td>0.580395</td>\n",
       "      <td>1.000000</td>\n",
       "      <td>0.604901</td>\n",
       "      <td>0.737107</td>\n",
       "      <td>0.689768</td>\n",
       "      <td>0.530551</td>\n",
       "      <td>0.647041</td>\n",
       "      <td>0.421379</td>\n",
       "      <td>0.742589</td>\n",
       "    </tr>\n",
       "    <tr>\n",
       "      <th>ETC</th>\n",
       "      <td>0.786109</td>\n",
       "      <td>0.640176</td>\n",
       "      <td>0.604901</td>\n",
       "      <td>1.000000</td>\n",
       "      <td>0.676000</td>\n",
       "      <td>0.745485</td>\n",
       "      <td>0.692395</td>\n",
       "      <td>0.753519</td>\n",
       "      <td>0.592874</td>\n",
       "      <td>0.785987</td>\n",
       "    </tr>\n",
       "    <tr>\n",
       "      <th>STR</th>\n",
       "      <td>0.700429</td>\n",
       "      <td>0.642780</td>\n",
       "      <td>0.737107</td>\n",
       "      <td>0.676000</td>\n",
       "      <td>1.000000</td>\n",
       "      <td>0.659234</td>\n",
       "      <td>0.659242</td>\n",
       "      <td>0.720223</td>\n",
       "      <td>0.659349</td>\n",
       "      <td>0.813164</td>\n",
       "    </tr>\n",
       "    <tr>\n",
       "      <th>DASH</th>\n",
       "      <td>0.774323</td>\n",
       "      <td>0.627805</td>\n",
       "      <td>0.689768</td>\n",
       "      <td>0.745485</td>\n",
       "      <td>0.659234</td>\n",
       "      <td>1.000000</td>\n",
       "      <td>0.594047</td>\n",
       "      <td>0.817303</td>\n",
       "      <td>0.454368</td>\n",
       "      <td>0.813013</td>\n",
       "    </tr>\n",
       "    <tr>\n",
       "      <th>SC</th>\n",
       "      <td>0.705407</td>\n",
       "      <td>0.623876</td>\n",
       "      <td>0.530551</td>\n",
       "      <td>0.692395</td>\n",
       "      <td>0.659242</td>\n",
       "      <td>0.594047</td>\n",
       "      <td>1.000000</td>\n",
       "      <td>0.703334</td>\n",
       "      <td>0.519677</td>\n",
       "      <td>0.762007</td>\n",
       "    </tr>\n",
       "    <tr>\n",
       "      <th>XMR</th>\n",
       "      <td>0.817768</td>\n",
       "      <td>0.731166</td>\n",
       "      <td>0.647041</td>\n",
       "      <td>0.753519</td>\n",
       "      <td>0.720223</td>\n",
       "      <td>0.817303</td>\n",
       "      <td>0.703334</td>\n",
       "      <td>1.000000</td>\n",
       "      <td>0.528572</td>\n",
       "      <td>0.874938</td>\n",
       "    </tr>\n",
       "    <tr>\n",
       "      <th>XEM</th>\n",
       "      <td>0.563254</td>\n",
       "      <td>0.455902</td>\n",
       "      <td>0.421379</td>\n",
       "      <td>0.592874</td>\n",
       "      <td>0.659349</td>\n",
       "      <td>0.454368</td>\n",
       "      <td>0.519677</td>\n",
       "      <td>0.528572</td>\n",
       "      <td>1.000000</td>\n",
       "      <td>0.568753</td>\n",
       "    </tr>\n",
       "    <tr>\n",
       "      <th>BTC</th>\n",
       "      <td>0.879684</td>\n",
       "      <td>0.828460</td>\n",
       "      <td>0.742589</td>\n",
       "      <td>0.785987</td>\n",
       "      <td>0.813164</td>\n",
       "      <td>0.813013</td>\n",
       "      <td>0.762007</td>\n",
       "      <td>0.874938</td>\n",
       "      <td>0.568753</td>\n",
       "      <td>1.000000</td>\n",
       "    </tr>\n",
       "  </tbody>\n",
       "</table>\n",
       "</div>"
      ],
      "text/plain": [
       "           ETH       LTC       XRP       ETC       STR      DASH        SC  \\\n",
       "ETH   1.000000  0.719607  0.684129  0.786109  0.700429  0.774323  0.705407   \n",
       "LTC   0.719607  1.000000  0.580395  0.640176  0.642780  0.627805  0.623876   \n",
       "XRP   0.684129  0.580395  1.000000  0.604901  0.737107  0.689768  0.530551   \n",
       "ETC   0.786109  0.640176  0.604901  1.000000  0.676000  0.745485  0.692395   \n",
       "STR   0.700429  0.642780  0.737107  0.676000  1.000000  0.659234  0.659242   \n",
       "DASH  0.774323  0.627805  0.689768  0.745485  0.659234  1.000000  0.594047   \n",
       "SC    0.705407  0.623876  0.530551  0.692395  0.659242  0.594047  1.000000   \n",
       "XMR   0.817768  0.731166  0.647041  0.753519  0.720223  0.817303  0.703334   \n",
       "XEM   0.563254  0.455902  0.421379  0.592874  0.659349  0.454368  0.519677   \n",
       "BTC   0.879684  0.828460  0.742589  0.785987  0.813164  0.813013  0.762007   \n",
       "\n",
       "           XMR       XEM       BTC  \n",
       "ETH   0.817768  0.563254  0.879684  \n",
       "LTC   0.731166  0.455902  0.828460  \n",
       "XRP   0.647041  0.421379  0.742589  \n",
       "ETC   0.753519  0.592874  0.785987  \n",
       "STR   0.720223  0.659349  0.813164  \n",
       "DASH  0.817303  0.454368  0.813013  \n",
       "SC    0.703334  0.519677  0.762007  \n",
       "XMR   1.000000  0.528572  0.874938  \n",
       "XEM   0.528572  1.000000  0.568753  \n",
       "BTC   0.874938  0.568753  1.000000  "
      ]
     },
     "execution_count": 34,
     "metadata": {},
     "output_type": "execute_result"
    }
   ],
   "source": [
    "# Calculate the pearson correlation coefficients for cryptocurrencies in 2019\n",
    "combined_df_2019 = combined_df[combined_df.index.year == 2019]\n",
    "combined_df_2019.pct_change().corr(method='pearson')"
   ]
  },
  {
   "cell_type": "code",
   "execution_count": 35,
   "metadata": {},
   "outputs": [
    {
     "data": {
      "text/html": [
       "<div>\n",
       "<style scoped>\n",
       "    .dataframe tbody tr th:only-of-type {\n",
       "        vertical-align: middle;\n",
       "    }\n",
       "\n",
       "    .dataframe tbody tr th {\n",
       "        vertical-align: top;\n",
       "    }\n",
       "\n",
       "    .dataframe thead th {\n",
       "        text-align: right;\n",
       "    }\n",
       "</style>\n",
       "<table border=\"1\" class=\"dataframe\">\n",
       "  <thead>\n",
       "    <tr style=\"text-align: right;\">\n",
       "      <th></th>\n",
       "      <th>ETH</th>\n",
       "      <th>LTC</th>\n",
       "      <th>XRP</th>\n",
       "      <th>ETC</th>\n",
       "      <th>STR</th>\n",
       "      <th>DASH</th>\n",
       "      <th>SC</th>\n",
       "      <th>XMR</th>\n",
       "      <th>XEM</th>\n",
       "      <th>BTC</th>\n",
       "    </tr>\n",
       "  </thead>\n",
       "  <tbody>\n",
       "    <tr>\n",
       "      <th>ETH</th>\n",
       "      <td>1.000000</td>\n",
       "      <td>0.812364</td>\n",
       "      <td>0.711815</td>\n",
       "      <td>0.784106</td>\n",
       "      <td>0.676943</td>\n",
       "      <td>0.797683</td>\n",
       "      <td>0.696509</td>\n",
       "      <td>0.815767</td>\n",
       "      <td>0.707075</td>\n",
       "      <td>0.815823</td>\n",
       "    </tr>\n",
       "    <tr>\n",
       "      <th>LTC</th>\n",
       "      <td>0.812364</td>\n",
       "      <td>1.000000</td>\n",
       "      <td>0.690836</td>\n",
       "      <td>0.714940</td>\n",
       "      <td>0.678577</td>\n",
       "      <td>0.798515</td>\n",
       "      <td>0.726552</td>\n",
       "      <td>0.800976</td>\n",
       "      <td>0.662511</td>\n",
       "      <td>0.844528</td>\n",
       "    </tr>\n",
       "    <tr>\n",
       "      <th>XRP</th>\n",
       "      <td>0.711815</td>\n",
       "      <td>0.690836</td>\n",
       "      <td>1.000000</td>\n",
       "      <td>0.630524</td>\n",
       "      <td>0.786955</td>\n",
       "      <td>0.675729</td>\n",
       "      <td>0.670637</td>\n",
       "      <td>0.683988</td>\n",
       "      <td>0.729476</td>\n",
       "      <td>0.701324</td>\n",
       "    </tr>\n",
       "    <tr>\n",
       "      <th>ETC</th>\n",
       "      <td>0.784106</td>\n",
       "      <td>0.714940</td>\n",
       "      <td>0.630524</td>\n",
       "      <td>1.000000</td>\n",
       "      <td>0.609767</td>\n",
       "      <td>0.712126</td>\n",
       "      <td>0.605670</td>\n",
       "      <td>0.703536</td>\n",
       "      <td>0.617403</td>\n",
       "      <td>0.723447</td>\n",
       "    </tr>\n",
       "    <tr>\n",
       "      <th>STR</th>\n",
       "      <td>0.676943</td>\n",
       "      <td>0.678577</td>\n",
       "      <td>0.786955</td>\n",
       "      <td>0.609767</td>\n",
       "      <td>1.000000</td>\n",
       "      <td>0.683934</td>\n",
       "      <td>0.690371</td>\n",
       "      <td>0.699055</td>\n",
       "      <td>0.746370</td>\n",
       "      <td>0.727613</td>\n",
       "    </tr>\n",
       "    <tr>\n",
       "      <th>DASH</th>\n",
       "      <td>0.797683</td>\n",
       "      <td>0.798515</td>\n",
       "      <td>0.675729</td>\n",
       "      <td>0.712126</td>\n",
       "      <td>0.683934</td>\n",
       "      <td>1.000000</td>\n",
       "      <td>0.700494</td>\n",
       "      <td>0.817633</td>\n",
       "      <td>0.683425</td>\n",
       "      <td>0.797425</td>\n",
       "    </tr>\n",
       "    <tr>\n",
       "      <th>SC</th>\n",
       "      <td>0.696509</td>\n",
       "      <td>0.726552</td>\n",
       "      <td>0.670637</td>\n",
       "      <td>0.605670</td>\n",
       "      <td>0.690371</td>\n",
       "      <td>0.700494</td>\n",
       "      <td>1.000000</td>\n",
       "      <td>0.705620</td>\n",
       "      <td>0.698641</td>\n",
       "      <td>0.745239</td>\n",
       "    </tr>\n",
       "    <tr>\n",
       "      <th>XMR</th>\n",
       "      <td>0.815767</td>\n",
       "      <td>0.800976</td>\n",
       "      <td>0.683988</td>\n",
       "      <td>0.703536</td>\n",
       "      <td>0.699055</td>\n",
       "      <td>0.817633</td>\n",
       "      <td>0.705620</td>\n",
       "      <td>1.000000</td>\n",
       "      <td>0.704067</td>\n",
       "      <td>0.856687</td>\n",
       "    </tr>\n",
       "    <tr>\n",
       "      <th>XEM</th>\n",
       "      <td>0.707075</td>\n",
       "      <td>0.662511</td>\n",
       "      <td>0.729476</td>\n",
       "      <td>0.617403</td>\n",
       "      <td>0.746370</td>\n",
       "      <td>0.683425</td>\n",
       "      <td>0.698641</td>\n",
       "      <td>0.704067</td>\n",
       "      <td>1.000000</td>\n",
       "      <td>0.709565</td>\n",
       "    </tr>\n",
       "    <tr>\n",
       "      <th>BTC</th>\n",
       "      <td>0.815823</td>\n",
       "      <td>0.844528</td>\n",
       "      <td>0.701324</td>\n",
       "      <td>0.723447</td>\n",
       "      <td>0.727613</td>\n",
       "      <td>0.797425</td>\n",
       "      <td>0.745239</td>\n",
       "      <td>0.856687</td>\n",
       "      <td>0.709565</td>\n",
       "      <td>1.000000</td>\n",
       "    </tr>\n",
       "  </tbody>\n",
       "</table>\n",
       "</div>"
      ],
      "text/plain": [
       "           ETH       LTC       XRP       ETC       STR      DASH        SC  \\\n",
       "ETH   1.000000  0.812364  0.711815  0.784106  0.676943  0.797683  0.696509   \n",
       "LTC   0.812364  1.000000  0.690836  0.714940  0.678577  0.798515  0.726552   \n",
       "XRP   0.711815  0.690836  1.000000  0.630524  0.786955  0.675729  0.670637   \n",
       "ETC   0.784106  0.714940  0.630524  1.000000  0.609767  0.712126  0.605670   \n",
       "STR   0.676943  0.678577  0.786955  0.609767  1.000000  0.683934  0.690371   \n",
       "DASH  0.797683  0.798515  0.675729  0.712126  0.683934  1.000000  0.700494   \n",
       "SC    0.696509  0.726552  0.670637  0.605670  0.690371  0.700494  1.000000   \n",
       "XMR   0.815767  0.800976  0.683988  0.703536  0.699055  0.817633  0.705620   \n",
       "XEM   0.707075  0.662511  0.729476  0.617403  0.746370  0.683425  0.698641   \n",
       "BTC   0.815823  0.844528  0.701324  0.723447  0.727613  0.797425  0.745239   \n",
       "\n",
       "           XMR       XEM       BTC  \n",
       "ETH   0.815767  0.707075  0.815823  \n",
       "LTC   0.800976  0.662511  0.844528  \n",
       "XRP   0.683988  0.729476  0.701324  \n",
       "ETC   0.703536  0.617403  0.723447  \n",
       "STR   0.699055  0.746370  0.727613  \n",
       "DASH  0.817633  0.683425  0.797425  \n",
       "SC    0.705620  0.698641  0.745239  \n",
       "XMR   1.000000  0.704067  0.856687  \n",
       "XEM   0.704067  1.000000  0.709565  \n",
       "BTC   0.856687  0.709565  1.000000  "
      ]
     },
     "execution_count": 35,
     "metadata": {},
     "output_type": "execute_result"
    }
   ],
   "source": [
    "# Calculate the pearson correlation coefficients for cryptocurrencies in 2018\n",
    "combined_df_2018 = combined_df[combined_df.index.year == 2018]\n",
    "combined_df_2018.pct_change().corr(method='pearson')"
   ]
  },
  {
   "cell_type": "code",
   "execution_count": 36,
   "metadata": {},
   "outputs": [
    {
     "data": {
      "text/html": [
       "<div>\n",
       "<style scoped>\n",
       "    .dataframe tbody tr th:only-of-type {\n",
       "        vertical-align: middle;\n",
       "    }\n",
       "\n",
       "    .dataframe tbody tr th {\n",
       "        vertical-align: top;\n",
       "    }\n",
       "\n",
       "    .dataframe thead th {\n",
       "        text-align: right;\n",
       "    }\n",
       "</style>\n",
       "<table border=\"1\" class=\"dataframe\">\n",
       "  <thead>\n",
       "    <tr style=\"text-align: right;\">\n",
       "      <th></th>\n",
       "      <th>ETH</th>\n",
       "      <th>LTC</th>\n",
       "      <th>XRP</th>\n",
       "      <th>ETC</th>\n",
       "      <th>STR</th>\n",
       "      <th>DASH</th>\n",
       "      <th>SC</th>\n",
       "      <th>XMR</th>\n",
       "      <th>XEM</th>\n",
       "      <th>BTC</th>\n",
       "    </tr>\n",
       "  </thead>\n",
       "  <tbody>\n",
       "    <tr>\n",
       "      <th>ETH</th>\n",
       "      <td>1.000000</td>\n",
       "      <td>0.468134</td>\n",
       "      <td>0.232382</td>\n",
       "      <td>0.624741</td>\n",
       "      <td>0.285320</td>\n",
       "      <td>0.538365</td>\n",
       "      <td>0.406428</td>\n",
       "      <td>0.583097</td>\n",
       "      <td>0.426159</td>\n",
       "      <td>0.469922</td>\n",
       "    </tr>\n",
       "    <tr>\n",
       "      <th>LTC</th>\n",
       "      <td>0.468134</td>\n",
       "      <td>1.000000</td>\n",
       "      <td>0.336242</td>\n",
       "      <td>0.508436</td>\n",
       "      <td>0.327614</td>\n",
       "      <td>0.375360</td>\n",
       "      <td>0.368549</td>\n",
       "      <td>0.466687</td>\n",
       "      <td>0.404928</td>\n",
       "      <td>0.465590</td>\n",
       "    </tr>\n",
       "    <tr>\n",
       "      <th>XRP</th>\n",
       "      <td>0.232382</td>\n",
       "      <td>0.336242</td>\n",
       "      <td>1.000000</td>\n",
       "      <td>0.137089</td>\n",
       "      <td>0.519106</td>\n",
       "      <td>0.116197</td>\n",
       "      <td>0.263731</td>\n",
       "      <td>0.245257</td>\n",
       "      <td>0.282404</td>\n",
       "      <td>0.166660</td>\n",
       "    </tr>\n",
       "    <tr>\n",
       "      <th>ETC</th>\n",
       "      <td>0.624741</td>\n",
       "      <td>0.508436</td>\n",
       "      <td>0.137089</td>\n",
       "      <td>1.000000</td>\n",
       "      <td>0.235300</td>\n",
       "      <td>0.422781</td>\n",
       "      <td>0.331071</td>\n",
       "      <td>0.479225</td>\n",
       "      <td>0.349538</td>\n",
       "      <td>0.464807</td>\n",
       "    </tr>\n",
       "    <tr>\n",
       "      <th>STR</th>\n",
       "      <td>0.285320</td>\n",
       "      <td>0.327614</td>\n",
       "      <td>0.519106</td>\n",
       "      <td>0.235300</td>\n",
       "      <td>1.000000</td>\n",
       "      <td>0.211239</td>\n",
       "      <td>0.420419</td>\n",
       "      <td>0.348993</td>\n",
       "      <td>0.354596</td>\n",
       "      <td>0.268392</td>\n",
       "    </tr>\n",
       "    <tr>\n",
       "      <th>DASH</th>\n",
       "      <td>0.538365</td>\n",
       "      <td>0.375360</td>\n",
       "      <td>0.116197</td>\n",
       "      <td>0.422781</td>\n",
       "      <td>0.211239</td>\n",
       "      <td>1.000000</td>\n",
       "      <td>0.327548</td>\n",
       "      <td>0.529846</td>\n",
       "      <td>0.356093</td>\n",
       "      <td>0.376626</td>\n",
       "    </tr>\n",
       "    <tr>\n",
       "      <th>SC</th>\n",
       "      <td>0.406428</td>\n",
       "      <td>0.368549</td>\n",
       "      <td>0.263731</td>\n",
       "      <td>0.331071</td>\n",
       "      <td>0.420419</td>\n",
       "      <td>0.327548</td>\n",
       "      <td>1.000000</td>\n",
       "      <td>0.409682</td>\n",
       "      <td>0.354694</td>\n",
       "      <td>0.375218</td>\n",
       "    </tr>\n",
       "    <tr>\n",
       "      <th>XMR</th>\n",
       "      <td>0.583097</td>\n",
       "      <td>0.466687</td>\n",
       "      <td>0.245257</td>\n",
       "      <td>0.479225</td>\n",
       "      <td>0.348993</td>\n",
       "      <td>0.529846</td>\n",
       "      <td>0.409682</td>\n",
       "      <td>1.000000</td>\n",
       "      <td>0.364910</td>\n",
       "      <td>0.464736</td>\n",
       "    </tr>\n",
       "    <tr>\n",
       "      <th>XEM</th>\n",
       "      <td>0.426159</td>\n",
       "      <td>0.404928</td>\n",
       "      <td>0.282404</td>\n",
       "      <td>0.349538</td>\n",
       "      <td>0.354596</td>\n",
       "      <td>0.356093</td>\n",
       "      <td>0.354694</td>\n",
       "      <td>0.364910</td>\n",
       "      <td>1.000000</td>\n",
       "      <td>0.372143</td>\n",
       "    </tr>\n",
       "    <tr>\n",
       "      <th>BTC</th>\n",
       "      <td>0.469922</td>\n",
       "      <td>0.465590</td>\n",
       "      <td>0.166660</td>\n",
       "      <td>0.464807</td>\n",
       "      <td>0.268392</td>\n",
       "      <td>0.376626</td>\n",
       "      <td>0.375218</td>\n",
       "      <td>0.464736</td>\n",
       "      <td>0.372143</td>\n",
       "      <td>1.000000</td>\n",
       "    </tr>\n",
       "  </tbody>\n",
       "</table>\n",
       "</div>"
      ],
      "text/plain": [
       "           ETH       LTC       XRP       ETC       STR      DASH        SC  \\\n",
       "ETH   1.000000  0.468134  0.232382  0.624741  0.285320  0.538365  0.406428   \n",
       "LTC   0.468134  1.000000  0.336242  0.508436  0.327614  0.375360  0.368549   \n",
       "XRP   0.232382  0.336242  1.000000  0.137089  0.519106  0.116197  0.263731   \n",
       "ETC   0.624741  0.508436  0.137089  1.000000  0.235300  0.422781  0.331071   \n",
       "STR   0.285320  0.327614  0.519106  0.235300  1.000000  0.211239  0.420419   \n",
       "DASH  0.538365  0.375360  0.116197  0.422781  0.211239  1.000000  0.327548   \n",
       "SC    0.406428  0.368549  0.263731  0.331071  0.420419  0.327548  1.000000   \n",
       "XMR   0.583097  0.466687  0.245257  0.479225  0.348993  0.529846  0.409682   \n",
       "XEM   0.426159  0.404928  0.282404  0.349538  0.354596  0.356093  0.354694   \n",
       "BTC   0.469922  0.465590  0.166660  0.464807  0.268392  0.376626  0.375218   \n",
       "\n",
       "           XMR       XEM       BTC  \n",
       "ETH   0.583097  0.426159  0.469922  \n",
       "LTC   0.466687  0.404928  0.465590  \n",
       "XRP   0.245257  0.282404  0.166660  \n",
       "ETC   0.479225  0.349538  0.464807  \n",
       "STR   0.348993  0.354596  0.268392  \n",
       "DASH  0.529846  0.356093  0.376626  \n",
       "SC    0.409682  0.354694  0.375218  \n",
       "XMR   1.000000  0.364910  0.464736  \n",
       "XEM   0.364910  1.000000  0.372143  \n",
       "BTC   0.464736  0.372143  1.000000  "
      ]
     },
     "execution_count": 36,
     "metadata": {},
     "output_type": "execute_result"
    }
   ],
   "source": [
    "# Calculate the pearson correlation coefficients for cryptocurrencies in 2017\n",
    "combined_df_2017 = combined_df[combined_df.index.year == 2017]\n",
    "combined_df_2017.pct_change().corr(method='pearson')"
   ]
  },
  {
   "cell_type": "code",
   "execution_count": 37,
   "metadata": {},
   "outputs": [
    {
     "data": {
      "text/html": [
       "<div>\n",
       "<style scoped>\n",
       "    .dataframe tbody tr th:only-of-type {\n",
       "        vertical-align: middle;\n",
       "    }\n",
       "\n",
       "    .dataframe tbody tr th {\n",
       "        vertical-align: top;\n",
       "    }\n",
       "\n",
       "    .dataframe thead th {\n",
       "        text-align: right;\n",
       "    }\n",
       "</style>\n",
       "<table border=\"1\" class=\"dataframe\">\n",
       "  <thead>\n",
       "    <tr style=\"text-align: right;\">\n",
       "      <th></th>\n",
       "      <th>ETH</th>\n",
       "      <th>LTC</th>\n",
       "      <th>XRP</th>\n",
       "      <th>ETC</th>\n",
       "      <th>STR</th>\n",
       "      <th>DASH</th>\n",
       "      <th>SC</th>\n",
       "      <th>XMR</th>\n",
       "      <th>XEM</th>\n",
       "      <th>BTC</th>\n",
       "    </tr>\n",
       "  </thead>\n",
       "  <tbody>\n",
       "    <tr>\n",
       "      <th>ETH</th>\n",
       "      <td>1.000000</td>\n",
       "      <td>-0.057405</td>\n",
       "      <td>0.087995</td>\n",
       "      <td>-0.180951</td>\n",
       "      <td>0.038837</td>\n",
       "      <td>0.124465</td>\n",
       "      <td>0.168345</td>\n",
       "      <td>0.090507</td>\n",
       "      <td>0.045951</td>\n",
       "      <td>0.002103</td>\n",
       "    </tr>\n",
       "    <tr>\n",
       "      <th>LTC</th>\n",
       "      <td>-0.057405</td>\n",
       "      <td>1.000000</td>\n",
       "      <td>0.063289</td>\n",
       "      <td>-0.134475</td>\n",
       "      <td>0.124327</td>\n",
       "      <td>-0.002598</td>\n",
       "      <td>0.011237</td>\n",
       "      <td>0.139085</td>\n",
       "      <td>0.167943</td>\n",
       "      <td>0.756675</td>\n",
       "    </tr>\n",
       "    <tr>\n",
       "      <th>XRP</th>\n",
       "      <td>0.087995</td>\n",
       "      <td>0.063289</td>\n",
       "      <td>1.000000</td>\n",
       "      <td>-0.055493</td>\n",
       "      <td>0.324295</td>\n",
       "      <td>0.092328</td>\n",
       "      <td>0.020086</td>\n",
       "      <td>0.033056</td>\n",
       "      <td>0.105826</td>\n",
       "      <td>0.057021</td>\n",
       "    </tr>\n",
       "    <tr>\n",
       "      <th>ETC</th>\n",
       "      <td>-0.180951</td>\n",
       "      <td>-0.134475</td>\n",
       "      <td>-0.055493</td>\n",
       "      <td>1.000000</td>\n",
       "      <td>-0.103384</td>\n",
       "      <td>-0.001045</td>\n",
       "      <td>-0.009292</td>\n",
       "      <td>-0.103672</td>\n",
       "      <td>-0.081281</td>\n",
       "      <td>-0.169784</td>\n",
       "    </tr>\n",
       "    <tr>\n",
       "      <th>STR</th>\n",
       "      <td>0.038837</td>\n",
       "      <td>0.124327</td>\n",
       "      <td>0.324295</td>\n",
       "      <td>-0.103384</td>\n",
       "      <td>1.000000</td>\n",
       "      <td>0.064254</td>\n",
       "      <td>0.142769</td>\n",
       "      <td>0.033683</td>\n",
       "      <td>0.228720</td>\n",
       "      <td>0.093268</td>\n",
       "    </tr>\n",
       "    <tr>\n",
       "      <th>DASH</th>\n",
       "      <td>0.124465</td>\n",
       "      <td>-0.002598</td>\n",
       "      <td>0.092328</td>\n",
       "      <td>-0.001045</td>\n",
       "      <td>0.064254</td>\n",
       "      <td>1.000000</td>\n",
       "      <td>0.024682</td>\n",
       "      <td>0.126901</td>\n",
       "      <td>0.019492</td>\n",
       "      <td>-0.000552</td>\n",
       "    </tr>\n",
       "    <tr>\n",
       "      <th>SC</th>\n",
       "      <td>0.168345</td>\n",
       "      <td>0.011237</td>\n",
       "      <td>0.020086</td>\n",
       "      <td>-0.009292</td>\n",
       "      <td>0.142769</td>\n",
       "      <td>0.024682</td>\n",
       "      <td>1.000000</td>\n",
       "      <td>0.048264</td>\n",
       "      <td>0.106195</td>\n",
       "      <td>0.033859</td>\n",
       "    </tr>\n",
       "    <tr>\n",
       "      <th>XMR</th>\n",
       "      <td>0.090507</td>\n",
       "      <td>0.139085</td>\n",
       "      <td>0.033056</td>\n",
       "      <td>-0.103672</td>\n",
       "      <td>0.033683</td>\n",
       "      <td>0.126901</td>\n",
       "      <td>0.048264</td>\n",
       "      <td>1.000000</td>\n",
       "      <td>0.020735</td>\n",
       "      <td>0.139546</td>\n",
       "    </tr>\n",
       "    <tr>\n",
       "      <th>XEM</th>\n",
       "      <td>0.045951</td>\n",
       "      <td>0.167943</td>\n",
       "      <td>0.105826</td>\n",
       "      <td>-0.081281</td>\n",
       "      <td>0.228720</td>\n",
       "      <td>0.019492</td>\n",
       "      <td>0.106195</td>\n",
       "      <td>0.020735</td>\n",
       "      <td>1.000000</td>\n",
       "      <td>0.234964</td>\n",
       "    </tr>\n",
       "    <tr>\n",
       "      <th>BTC</th>\n",
       "      <td>0.002103</td>\n",
       "      <td>0.756675</td>\n",
       "      <td>0.057021</td>\n",
       "      <td>-0.169784</td>\n",
       "      <td>0.093268</td>\n",
       "      <td>-0.000552</td>\n",
       "      <td>0.033859</td>\n",
       "      <td>0.139546</td>\n",
       "      <td>0.234964</td>\n",
       "      <td>1.000000</td>\n",
       "    </tr>\n",
       "  </tbody>\n",
       "</table>\n",
       "</div>"
      ],
      "text/plain": [
       "           ETH       LTC       XRP       ETC       STR      DASH        SC  \\\n",
       "ETH   1.000000 -0.057405  0.087995 -0.180951  0.038837  0.124465  0.168345   \n",
       "LTC  -0.057405  1.000000  0.063289 -0.134475  0.124327 -0.002598  0.011237   \n",
       "XRP   0.087995  0.063289  1.000000 -0.055493  0.324295  0.092328  0.020086   \n",
       "ETC  -0.180951 -0.134475 -0.055493  1.000000 -0.103384 -0.001045 -0.009292   \n",
       "STR   0.038837  0.124327  0.324295 -0.103384  1.000000  0.064254  0.142769   \n",
       "DASH  0.124465 -0.002598  0.092328 -0.001045  0.064254  1.000000  0.024682   \n",
       "SC    0.168345  0.011237  0.020086 -0.009292  0.142769  0.024682  1.000000   \n",
       "XMR   0.090507  0.139085  0.033056 -0.103672  0.033683  0.126901  0.048264   \n",
       "XEM   0.045951  0.167943  0.105826 -0.081281  0.228720  0.019492  0.106195   \n",
       "BTC   0.002103  0.756675  0.057021 -0.169784  0.093268 -0.000552  0.033859   \n",
       "\n",
       "           XMR       XEM       BTC  \n",
       "ETH   0.090507  0.045951  0.002103  \n",
       "LTC   0.139085  0.167943  0.756675  \n",
       "XRP   0.033056  0.105826  0.057021  \n",
       "ETC  -0.103672 -0.081281 -0.169784  \n",
       "STR   0.033683  0.228720  0.093268  \n",
       "DASH  0.126901  0.019492 -0.000552  \n",
       "SC    0.048264  0.106195  0.033859  \n",
       "XMR   1.000000  0.020735  0.139546  \n",
       "XEM   0.020735  1.000000  0.234964  \n",
       "BTC   0.139546  0.234964  1.000000  "
      ]
     },
     "execution_count": 37,
     "metadata": {},
     "output_type": "execute_result"
    }
   ],
   "source": [
    "# Calculate the pearson correlation coefficients for cryptocurrencies in 2016\n",
    "combined_df_2016 = combined_df[combined_df.index.year == 2016]\n",
    "combined_df_2016.pct_change().corr(method='pearson')"
   ]
  },
  {
   "cell_type": "code",
   "execution_count": 39,
   "metadata": {},
   "outputs": [],
   "source": [
    "def correlation_heatmap(df, title, absolute_bounds=True):\n",
    "    '''Plot a correlation heatmap for the entire dataframe'''\n",
    "    heatmap = go.Heatmap(\n",
    "        z=df.corr(method='pearson').as_matrix(),\n",
    "        x=df.columns,\n",
    "        y=df.columns,\n",
    "        colorbar=dict(title='Pearson Coefficient'),\n",
    "    )\n",
    "    \n",
    "    layout = go.Layout(title=title)\n",
    "    \n",
    "    if absolute_bounds:\n",
    "        heatmap['zmax'] = 1.0\n",
    "        heatmap['zmin'] = -1.0\n",
    "        \n",
    "    fig = go.Figure(data=[heatmap], layout=layout)\n",
    "    py.iplot(fig)"
   ]
  },
  {
   "cell_type": "code",
   "execution_count": 40,
   "metadata": {},
   "outputs": [
    {
     "name": "stderr",
     "output_type": "stream",
     "text": [
      "/Users/nanaessandoh/anaconda3/lib/python3.7/site-packages/ipykernel_launcher.py:4: FutureWarning:\n",
      "\n",
      "Method .as_matrix will be removed in a future version. Use .values instead.\n",
      "\n",
      "/Users/nanaessandoh/anaconda3/lib/python3.7/site-packages/IPython/core/display.py:689: UserWarning:\n",
      "\n",
      "Consider using IPython.display.IFrame instead\n",
      "\n"
     ]
    }
   ],
   "source": [
    "correlation_heatmap(combined_df_2019.pct_change(), \"Cryptocurrency Correlations in 2019\")"
   ]
  },
  {
   "cell_type": "code",
   "execution_count": 41,
   "metadata": {},
   "outputs": [
    {
     "name": "stderr",
     "output_type": "stream",
     "text": [
      "/Users/nanaessandoh/anaconda3/lib/python3.7/site-packages/ipykernel_launcher.py:4: FutureWarning:\n",
      "\n",
      "Method .as_matrix will be removed in a future version. Use .values instead.\n",
      "\n"
     ]
    }
   ],
   "source": [
    "correlation_heatmap(combined_df_2018.pct_change(), \"Cryptocurrency Correlations in 2018\")"
   ]
  },
  {
   "cell_type": "code",
   "execution_count": 42,
   "metadata": {},
   "outputs": [
    {
     "name": "stderr",
     "output_type": "stream",
     "text": [
      "/Users/nanaessandoh/anaconda3/lib/python3.7/site-packages/ipykernel_launcher.py:4: FutureWarning:\n",
      "\n",
      "Method .as_matrix will be removed in a future version. Use .values instead.\n",
      "\n"
     ]
    }
   ],
   "source": [
    "correlation_heatmap(combined_df_2017.pct_change(), \"Cryptocurrency Correlations in 2017\")"
   ]
  },
  {
   "cell_type": "code",
   "execution_count": 43,
   "metadata": {},
   "outputs": [
    {
     "name": "stderr",
     "output_type": "stream",
     "text": [
      "/Users/nanaessandoh/anaconda3/lib/python3.7/site-packages/ipykernel_launcher.py:4: FutureWarning:\n",
      "\n",
      "Method .as_matrix will be removed in a future version. Use .values instead.\n",
      "\n"
     ]
    }
   ],
   "source": [
    "correlation_heatmap(combined_df_2016.pct_change(), \"Cryptocurrency Correlations in 2016\")"
   ]
  },
  {
   "cell_type": "code",
   "execution_count": 3,
   "metadata": {},
   "outputs": [],
   "source": [
    "import quandl\n",
    "import pandas as pd\n",
    "import numpy as np\n",
    "import datetime\n",
    "from sklearn.linear_model import LinearRegression\n",
    "from sklearn import datasets, svm, metrics\n",
    "from sklearn import model_selection\n",
    "from sklearn import preprocessing\n",
    "from sklearn import linear_model"
   ]
  },
  {
   "cell_type": "code",
   "execution_count": 7,
   "metadata": {},
   "outputs": [
    {
     "data": {
      "text/html": [
       "<div>\n",
       "<style scoped>\n",
       "    .dataframe tbody tr th:only-of-type {\n",
       "        vertical-align: middle;\n",
       "    }\n",
       "\n",
       "    .dataframe tbody tr th {\n",
       "        vertical-align: top;\n",
       "    }\n",
       "\n",
       "    .dataframe thead th {\n",
       "        text-align: right;\n",
       "    }\n",
       "</style>\n",
       "<table border=\"1\" class=\"dataframe\">\n",
       "  <thead>\n",
       "    <tr style=\"text-align: right;\">\n",
       "      <th></th>\n",
       "      <th>Open</th>\n",
       "      <th>High</th>\n",
       "      <th>Low</th>\n",
       "      <th>Close</th>\n",
       "      <th>Adj Close</th>\n",
       "      <th>Volume</th>\n",
       "      <th>DailyChange</th>\n",
       "      <th>DailyMargin</th>\n",
       "    </tr>\n",
       "  </thead>\n",
       "  <tbody>\n",
       "    <tr>\n",
       "      <th>Open</th>\n",
       "      <td>1.000000</td>\n",
       "      <td>0.998887</td>\n",
       "      <td>0.997833</td>\n",
       "      <td>0.997716</td>\n",
       "      <td>0.997716</td>\n",
       "      <td>0.845234</td>\n",
       "      <td>-0.034615</td>\n",
       "      <td>0.792933</td>\n",
       "    </tr>\n",
       "    <tr>\n",
       "      <th>High</th>\n",
       "      <td>0.998887</td>\n",
       "      <td>1.000000</td>\n",
       "      <td>0.997604</td>\n",
       "      <td>0.999103</td>\n",
       "      <td>0.999103</td>\n",
       "      <td>0.853711</td>\n",
       "      <td>0.002381</td>\n",
       "      <td>0.805316</td>\n",
       "    </tr>\n",
       "    <tr>\n",
       "      <th>Low</th>\n",
       "      <td>0.997833</td>\n",
       "      <td>0.997604</td>\n",
       "      <td>1.000000</td>\n",
       "      <td>0.998640</td>\n",
       "      <td>0.998640</td>\n",
       "      <td>0.820418</td>\n",
       "      <td>0.011100</td>\n",
       "      <td>0.762368</td>\n",
       "    </tr>\n",
       "    <tr>\n",
       "      <th>Close</th>\n",
       "      <td>0.997716</td>\n",
       "      <td>0.999103</td>\n",
       "      <td>0.998640</td>\n",
       "      <td>1.000000</td>\n",
       "      <td>1.000000</td>\n",
       "      <td>0.840308</td>\n",
       "      <td>0.032978</td>\n",
       "      <td>0.788044</td>\n",
       "    </tr>\n",
       "    <tr>\n",
       "      <th>Adj Close</th>\n",
       "      <td>0.997716</td>\n",
       "      <td>0.999103</td>\n",
       "      <td>0.998640</td>\n",
       "      <td>1.000000</td>\n",
       "      <td>1.000000</td>\n",
       "      <td>0.840308</td>\n",
       "      <td>0.032978</td>\n",
       "      <td>0.788044</td>\n",
       "    </tr>\n",
       "    <tr>\n",
       "      <th>Volume</th>\n",
       "      <td>0.845234</td>\n",
       "      <td>0.853711</td>\n",
       "      <td>0.820418</td>\n",
       "      <td>0.840308</td>\n",
       "      <td>0.840308</td>\n",
       "      <td>1.000000</td>\n",
       "      <td>-0.073421</td>\n",
       "      <td>0.955259</td>\n",
       "    </tr>\n",
       "    <tr>\n",
       "      <th>DailyChange</th>\n",
       "      <td>-0.034615</td>\n",
       "      <td>0.002381</td>\n",
       "      <td>0.011100</td>\n",
       "      <td>0.032978</td>\n",
       "      <td>0.032978</td>\n",
       "      <td>-0.073421</td>\n",
       "      <td>1.000000</td>\n",
       "      <td>-0.072838</td>\n",
       "    </tr>\n",
       "    <tr>\n",
       "      <th>DailyMargin</th>\n",
       "      <td>0.792933</td>\n",
       "      <td>0.805316</td>\n",
       "      <td>0.762368</td>\n",
       "      <td>0.788044</td>\n",
       "      <td>0.788044</td>\n",
       "      <td>0.955259</td>\n",
       "      <td>-0.072838</td>\n",
       "      <td>1.000000</td>\n",
       "    </tr>\n",
       "  </tbody>\n",
       "</table>\n",
       "</div>"
      ],
      "text/plain": [
       "                 Open      High       Low     Close  Adj Close    Volume  \\\n",
       "Open         1.000000  0.998887  0.997833  0.997716   0.997716  0.845234   \n",
       "High         0.998887  1.000000  0.997604  0.999103   0.999103  0.853711   \n",
       "Low          0.997833  0.997604  1.000000  0.998640   0.998640  0.820418   \n",
       "Close        0.997716  0.999103  0.998640  1.000000   1.000000  0.840308   \n",
       "Adj Close    0.997716  0.999103  0.998640  1.000000   1.000000  0.840308   \n",
       "Volume       0.845234  0.853711  0.820418  0.840308   0.840308  1.000000   \n",
       "DailyChange -0.034615  0.002381  0.011100  0.032978   0.032978 -0.073421   \n",
       "DailyMargin  0.792933  0.805316  0.762368  0.788044   0.788044  0.955259   \n",
       "\n",
       "             DailyChange  DailyMargin  \n",
       "Open           -0.034615     0.792933  \n",
       "High            0.002381     0.805316  \n",
       "Low             0.011100     0.762368  \n",
       "Close           0.032978     0.788044  \n",
       "Adj Close       0.032978     0.788044  \n",
       "Volume         -0.073421     0.955259  \n",
       "DailyChange     1.000000    -0.072838  \n",
       "DailyMargin    -0.072838     1.000000  "
      ]
     },
     "execution_count": 7,
     "metadata": {},
     "output_type": "execute_result"
    }
   ],
   "source": [
    "# Find the Correlation of the BTC Dataset Features\n",
    "data1.corr()"
   ]
  },
  {
   "cell_type": "code",
   "execution_count": 8,
   "metadata": {},
   "outputs": [],
   "source": [
    "df1=data1.corr()"
   ]
  },
  {
   "cell_type": "code",
   "execution_count": 47,
   "metadata": {},
   "outputs": [
    {
     "name": "stderr",
     "output_type": "stream",
     "text": [
      "/Users/nanaessandoh/anaconda3/lib/python3.7/site-packages/ipykernel_launcher.py:4: FutureWarning:\n",
      "\n",
      "Method .as_matrix will be removed in a future version. Use .values instead.\n",
      "\n",
      "/Users/nanaessandoh/anaconda3/lib/python3.7/site-packages/IPython/core/display.py:689: UserWarning:\n",
      "\n",
      "Consider using IPython.display.IFrame instead\n",
      "\n"
     ]
    }
   ],
   "source": [
    "correlation_heatmap(df1 , \"Correlations of Features in BTC Dataset\")"
   ]
  },
  {
   "cell_type": "code",
   "execution_count": 25,
   "metadata": {},
   "outputs": [],
   "source": [
    "X = data1[['Volume','DailyMargin','DailyChange']]"
   ]
  },
  {
   "cell_type": "code",
   "execution_count": 26,
   "metadata": {},
   "outputs": [],
   "source": [
    "y = data1[['Adj Close']]"
   ]
  },
  {
   "cell_type": "code",
   "execution_count": 27,
   "metadata": {},
   "outputs": [],
   "source": [
    "X_train, X_test, y_train, y_test = model_selection.train_test_split(X, y, test_size = 0.30)"
   ]
  },
  {
   "cell_type": "code",
   "execution_count": 28,
   "metadata": {},
   "outputs": [
    {
     "data": {
      "text/plain": [
       "1494"
      ]
     },
     "execution_count": 28,
     "metadata": {},
     "output_type": "execute_result"
    }
   ],
   "source": [
    "len(X_train)"
   ]
  },
  {
   "cell_type": "code",
   "execution_count": 29,
   "metadata": {},
   "outputs": [
    {
     "data": {
      "text/plain": [
       "641"
      ]
     },
     "execution_count": 29,
     "metadata": {},
     "output_type": "execute_result"
    }
   ],
   "source": [
    "len(X_test)"
   ]
  },
  {
   "cell_type": "code",
   "execution_count": 30,
   "metadata": {},
   "outputs": [
    {
     "data": {
      "text/plain": [
       "LinearRegression(copy_X=True, fit_intercept=True, n_jobs=None,\n",
       "         normalize=False)"
      ]
     },
     "execution_count": 30,
     "metadata": {},
     "output_type": "execute_result"
    }
   ],
   "source": [
    "# Training\n",
    "clf = LinearRegression(copy_X=True, fit_intercept=True, n_jobs=None,\n",
    "         normalize=False)\n",
    "clf.fit(X_train,y_train)"
   ]
  },
  {
   "cell_type": "code",
   "execution_count": 31,
   "metadata": {},
   "outputs": [
    {
     "data": {
      "text/plain": [
       "array([[ 7.18103847e-06, -1.39903553e+00,  5.48070749e-01]])"
      ]
     },
     "execution_count": 31,
     "metadata": {},
     "output_type": "execute_result"
    }
   ],
   "source": [
    "clf.coef_"
   ]
  },
  {
   "cell_type": "code",
   "execution_count": 32,
   "metadata": {},
   "outputs": [],
   "source": [
    "#clf.predict (X_test)"
   ]
  },
  {
   "cell_type": "code",
   "execution_count": 33,
   "metadata": {},
   "outputs": [],
   "source": [
    "#y_test"
   ]
  },
  {
   "cell_type": "code",
   "execution_count": 34,
   "metadata": {},
   "outputs": [
    {
     "name": "stdout",
     "output_type": "stream",
     "text": [
      "Confidence Value:  63.89221440041708\n"
     ]
    }
   ],
   "source": [
    "# Confidence Value\n",
    "confidence = clf.score(X_test, y_test)\n",
    "print(\"Confidence Value: \", confidence * 100)"
   ]
  },
  {
   "cell_type": "code",
   "execution_count": 35,
   "metadata": {},
   "outputs": [
    {
     "name": "stderr",
     "output_type": "stream",
     "text": [
      "/Users/nanaessandoh/anaconda3/lib/python3.7/site-packages/IPython/core/display.py:689: UserWarning:\n",
      "\n",
      "Consider using IPython.display.IFrame instead\n",
      "\n"
     ]
    },
    {
     "data": {
      "text/html": [
       "<iframe id=\"igraph\" scrolling=\"no\" style=\"border:none;\" seamless=\"seamless\" src=\"https://plot.ly/~nanaessandoh/166.embed\" height=\"525px\" width=\"100%\"></iframe>"
      ],
      "text/plain": [
       "<plotly.tools.PlotlyDisplay object>"
      ]
     },
     "execution_count": 35,
     "metadata": {},
     "output_type": "execute_result"
    }
   ],
   "source": [
    "# Plot the average BTC price\n",
    "btc = go.Scatter(x=y_test.index, y=y_test['Adj Close'], mode = 'markers')\n",
    "py.iplot([btc])"
   ]
  },
  {
   "cell_type": "code",
   "execution_count": 81,
   "metadata": {},
   "outputs": [
    {
     "data": {
      "text/html": [
       "<div>\n",
       "<style scoped>\n",
       "    .dataframe tbody tr th:only-of-type {\n",
       "        vertical-align: middle;\n",
       "    }\n",
       "\n",
       "    .dataframe tbody tr th {\n",
       "        vertical-align: top;\n",
       "    }\n",
       "\n",
       "    .dataframe thead th {\n",
       "        text-align: right;\n",
       "    }\n",
       "</style>\n",
       "<table border=\"1\" class=\"dataframe\">\n",
       "  <thead>\n",
       "    <tr style=\"text-align: right;\">\n",
       "      <th></th>\n",
       "      <th>Open</th>\n",
       "      <th>High</th>\n",
       "      <th>Low</th>\n",
       "      <th>Close</th>\n",
       "      <th>Adj Close</th>\n",
       "      <th>Volume</th>\n",
       "    </tr>\n",
       "    <tr>\n",
       "      <th>Date</th>\n",
       "      <th></th>\n",
       "      <th></th>\n",
       "      <th></th>\n",
       "      <th></th>\n",
       "      <th></th>\n",
       "      <th></th>\n",
       "    </tr>\n",
       "  </thead>\n",
       "  <tbody>\n",
       "    <tr>\n",
       "      <th>2019-03-17</th>\n",
       "      <td>4027.010010</td>\n",
       "      <td>4030.379883</td>\n",
       "      <td>3970.969971</td>\n",
       "      <td>3998.000000</td>\n",
       "      <td>3998.000000</td>\n",
       "      <td>68146133</td>\n",
       "    </tr>\n",
       "    <tr>\n",
       "      <th>2019-03-18</th>\n",
       "      <td>3998.000000</td>\n",
       "      <td>4038.989990</td>\n",
       "      <td>3964.310059</td>\n",
       "      <td>3988.850098</td>\n",
       "      <td>3988.850098</td>\n",
       "      <td>109428478</td>\n",
       "    </tr>\n",
       "    <tr>\n",
       "      <th>2019-03-19</th>\n",
       "      <td>3988.850098</td>\n",
       "      <td>4032.040039</td>\n",
       "      <td>3972.469971</td>\n",
       "      <td>4024.139893</td>\n",
       "      <td>4024.139893</td>\n",
       "      <td>118919147</td>\n",
       "    </tr>\n",
       "    <tr>\n",
       "      <th>2019-03-20</th>\n",
       "      <td>4024.139893</td>\n",
       "      <td>4064.949951</td>\n",
       "      <td>3995.489990</td>\n",
       "      <td>4051.379883</td>\n",
       "      <td>4051.379883</td>\n",
       "      <td>147378040</td>\n",
       "    </tr>\n",
       "    <tr>\n",
       "      <th>2019-03-21</th>\n",
       "      <td>4056.770020</td>\n",
       "      <td>4082.290039</td>\n",
       "      <td>3953.530029</td>\n",
       "      <td>3992.449951</td>\n",
       "      <td>3992.449951</td>\n",
       "      <td>162040496</td>\n",
       "    </tr>\n",
       "  </tbody>\n",
       "</table>\n",
       "</div>"
      ],
      "text/plain": [
       "                   Open         High          Low        Close    Adj Close  \\\n",
       "Date                                                                          \n",
       "2019-03-17  4027.010010  4030.379883  3970.969971  3998.000000  3998.000000   \n",
       "2019-03-18  3998.000000  4038.989990  3964.310059  3988.850098  3988.850098   \n",
       "2019-03-19  3988.850098  4032.040039  3972.469971  4024.139893  4024.139893   \n",
       "2019-03-20  4024.139893  4064.949951  3995.489990  4051.379883  4051.379883   \n",
       "2019-03-21  4056.770020  4082.290039  3953.530029  3992.449951  3992.449951   \n",
       "\n",
       "               Volume  \n",
       "Date                   \n",
       "2019-03-17   68146133  \n",
       "2019-03-18  109428478  \n",
       "2019-03-19  118919147  \n",
       "2019-03-20  147378040  \n",
       "2019-03-21  162040496  "
      ]
     },
     "execution_count": 81,
     "metadata": {},
     "output_type": "execute_result"
    }
   ],
   "source": [
    "import pandas as pd\n",
    "df2 = pd.read_csv(\"BTC_PRED.csv\",parse_dates=[\"Date\"], index_col=\"Date\")\n",
    "df2.tail()"
   ]
  },
  {
   "cell_type": "code",
   "execution_count": 82,
   "metadata": {},
   "outputs": [
    {
     "name": "stderr",
     "output_type": "stream",
     "text": [
      "/Users/nanaessandoh/anaconda3/lib/python3.7/site-packages/plotly/tools.py:1545: UserWarning:\n",
      "\n",
      "plotly.tools.FigureFactory.create_candlestick is deprecated. Use plotly.figure_factory.create_candlestick\n",
      "\n"
     ]
    },
    {
     "data": {
      "text/html": [
       "<iframe id=\"igraph\" scrolling=\"no\" style=\"border:none;\" seamless=\"seamless\" src=\"https://plot.ly/~nanaessandoh/164.embed\" height=\"525px\" width=\"100%\"></iframe>"
      ],
      "text/plain": [
       "<plotly.tools.PlotlyDisplay object>"
      ]
     },
     "execution_count": 82,
     "metadata": {},
     "output_type": "execute_result"
    }
   ],
   "source": [
    "fig = FF.create_candlestick(df2.Open, df2.High, df2.Low, df2.Close, dates=df2.index)\n",
    "py.iplot(fig, filename='Simple_Candlestick_Pred', validate=False)"
   ]
  },
  {
   "cell_type": "code",
   "execution_count": 59,
   "metadata": {},
   "outputs": [],
   "source": [
    "Trace1 = go.Scatter(x=y_test.index, y=y_test['Adj Close'], mode = 'markers', name = 'Prdeicted Value of Trained Model')\n",
    "Trace2 = go.Scatter(x=btc_usd_datasets.index, y=btc_usd_datasets['avg_btc_price_usd'], mode = 'lines', name = 'Real Value of Bitcoin')"
   ]
  },
  {
   "cell_type": "code",
   "execution_count": 60,
   "metadata": {},
   "outputs": [],
   "source": [
    "data3 = [Trace1,Trace2]\n",
    "layout = go.Layout(title = 'Predicted Values VS Real Values of Bitcoin')\n",
    "figure = go.Figure(data = data3, layout = layout)"
   ]
  },
  {
   "cell_type": "code",
   "execution_count": 61,
   "metadata": {},
   "outputs": [
    {
     "data": {
      "text/html": [
       "<iframe id=\"igraph\" scrolling=\"no\" style=\"border:none;\" seamless=\"seamless\" src=\"https://plot.ly/~nanaessandoh/172.embed\" height=\"525px\" width=\"100%\"></iframe>"
      ],
      "text/plain": [
       "<plotly.tools.PlotlyDisplay object>"
      ]
     },
     "execution_count": 61,
     "metadata": {},
     "output_type": "execute_result"
    }
   ],
   "source": [
    "# Plot Predicted Values Vs Real Values \n",
    "py.iplot(figure)"
   ]
  },
  {
   "cell_type": "code",
   "execution_count": 128,
   "metadata": {},
   "outputs": [],
   "source": [
    "X = data1[['Volume']]"
   ]
  },
  {
   "cell_type": "code",
   "execution_count": 129,
   "metadata": {},
   "outputs": [],
   "source": [
    "y = data1[['Adj Close']]"
   ]
  },
  {
   "cell_type": "code",
   "execution_count": 130,
   "metadata": {},
   "outputs": [],
   "source": [
    "X_train, X_test, y_train, y_test = model_selection.train_test_split(X, y, test_size = 0.30)"
   ]
  },
  {
   "cell_type": "code",
   "execution_count": 131,
   "metadata": {},
   "outputs": [
    {
     "data": {
      "text/plain": [
       "LinearRegression(copy_X=True, fit_intercept=True, n_jobs=None,\n",
       "         normalize=False)"
      ]
     },
     "execution_count": 131,
     "metadata": {},
     "output_type": "execute_result"
    }
   ],
   "source": [
    "# Training\n",
    "clf = LinearRegression(copy_X=True, fit_intercept=True, n_jobs=None,\n",
    "         normalize=False)\n",
    "clf.fit(X_train,y_train)"
   ]
  },
  {
   "cell_type": "code",
   "execution_count": 132,
   "metadata": {},
   "outputs": [
    {
     "data": {
      "text/plain": [
       "array([[6.00756159e-06]])"
      ]
     },
     "execution_count": 132,
     "metadata": {},
     "output_type": "execute_result"
    }
   ],
   "source": [
    "clf.coef_"
   ]
  },
  {
   "cell_type": "code",
   "execution_count": 133,
   "metadata": {},
   "outputs": [
    {
     "name": "stdout",
     "output_type": "stream",
     "text": [
      "Confidence Value:  70.30092501822584\n"
     ]
    }
   ],
   "source": [
    "# Confidence Value\n",
    "confidence = clf.score(X_test, y_test)\n",
    "print(\"Confidence Value: \", confidence * 100)"
   ]
  },
  {
   "cell_type": "code",
   "execution_count": 134,
   "metadata": {},
   "outputs": [
    {
     "name": "stderr",
     "output_type": "stream",
     "text": [
      "/Users/nanaessandoh/anaconda3/lib/python3.7/site-packages/IPython/core/display.py:689: UserWarning:\n",
      "\n",
      "Consider using IPython.display.IFrame instead\n",
      "\n"
     ]
    },
    {
     "data": {
      "text/html": [
       "<iframe id=\"igraph\" scrolling=\"no\" style=\"border:none;\" seamless=\"seamless\" src=\"https://plot.ly/~nanaessandoh/186.embed\" height=\"525px\" width=\"100%\"></iframe>"
      ],
      "text/plain": [
       "<plotly.tools.PlotlyDisplay object>"
      ]
     },
     "execution_count": 134,
     "metadata": {},
     "output_type": "execute_result"
    }
   ],
   "source": [
    "# Plot the average BTC price\n",
    "btc = go.Scatter(x=y_test.index, y=y_test['Adj Close'], mode = 'markers')\n",
    "py.iplot([btc])"
   ]
  },
  {
   "cell_type": "code",
   "execution_count": 135,
   "metadata": {},
   "outputs": [],
   "source": [
    "Trace1 = go.Scatter(x=y_test.index, y=y_test['Adj Close'], mode = 'markers', name = 'Prdeicted Value of Trained Model')\n",
    "Trace2 = go.Scatter(x=btc_usd_datasets.index, y=btc_usd_datasets['avg_btc_price_usd'], mode = 'lines', name = 'Real Value of Bitcoin')"
   ]
  },
  {
   "cell_type": "code",
   "execution_count": 136,
   "metadata": {},
   "outputs": [],
   "source": [
    "data3 = [Trace1,Trace2]\n",
    "layout = go.Layout(title = 'Predicted Values VS Real Values of Bitcoin')\n",
    "figure = go.Figure(data = data3, layout = layout)"
   ]
  },
  {
   "cell_type": "code",
   "execution_count": 137,
   "metadata": {},
   "outputs": [
    {
     "data": {
      "text/html": [
       "<iframe id=\"igraph\" scrolling=\"no\" style=\"border:none;\" seamless=\"seamless\" src=\"https://plot.ly/~nanaessandoh/188.embed\" height=\"525px\" width=\"100%\"></iframe>"
      ],
      "text/plain": [
       "<plotly.tools.PlotlyDisplay object>"
      ]
     },
     "execution_count": 137,
     "metadata": {},
     "output_type": "execute_result"
    }
   ],
   "source": [
    "# Plot Predicted Values Vs Real Values \n",
    "py.iplot(figure)"
   ]
  },
  {
   "cell_type": "code",
   "execution_count": null,
   "metadata": {},
   "outputs": [],
   "source": []
  },
  {
   "cell_type": "code",
   "execution_count": null,
   "metadata": {},
   "outputs": [],
   "source": []
  }
 ],
 "metadata": {
  "kernelspec": {
   "display_name": "Python 3",
   "language": "python",
   "name": "python3"
  },
  "language_info": {
   "codemirror_mode": {
    "name": "ipython",
    "version": 3
   },
   "file_extension": ".py",
   "mimetype": "text/x-python",
   "name": "python",
   "nbconvert_exporter": "python",
   "pygments_lexer": "ipython3",
   "version": "3.7.1"
  }
 },
 "nbformat": 4,
 "nbformat_minor": 2
}
